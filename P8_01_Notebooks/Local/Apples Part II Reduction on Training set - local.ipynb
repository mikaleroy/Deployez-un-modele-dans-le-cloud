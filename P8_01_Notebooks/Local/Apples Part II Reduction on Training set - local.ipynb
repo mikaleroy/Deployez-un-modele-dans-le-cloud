{
 "cells": [
  {
   "cell_type": "raw",
   "id": "22536cc5",
   "metadata": {},
   "source": [
    "conda list"
   ]
  },
  {
   "cell_type": "code",
   "execution_count": 1,
   "id": "d20bafdf",
   "metadata": {},
   "outputs": [],
   "source": [
    "import pandas as pd\n",
    "\n",
    "import numpy as np\n",
    "\n",
    "import io\n",
    "\n",
    "import os\n",
    "\n",
    "from pyspark.sql import SparkSession\n",
    "\n",
    "from pyspark.sql.functions import col, pandas_udf, udf, PandasUDFType\n",
    "\n",
    "from pyspark.ml import Pipeline\n",
    "\n",
    "from pyspark.ml.functions import vector_to_array\n",
    "\n",
    "from pyspark.ml.linalg import Vectors, VectorUDT\n",
    "\n",
    "from pyspark.ml.feature import StandardScaler, PCA\n",
    "\n",
    "# from pyspark import SparkContext, SparkConf\n",
    "\n"
   ]
  },
  {
   "cell_type": "markdown",
   "id": "8c42c924",
   "metadata": {},
   "source": [
    "# Create spark session"
   ]
  },
  {
   "cell_type": "code",
   "execution_count": 2,
   "id": "1239a41d",
   "metadata": {},
   "outputs": [],
   "source": [
    "# create a spark session\n",
    "spark = (SparkSession.builder\n",
    ".master('local[6]')\n",
    ".appName('PCA Reduction')\n",
    ".config('spark.driver.extraClassPath', \n",
    "        '/home/demo/hadoop/hadoop-3.2.2/share/hadoop/tools/lib/aws-java-sdk-bundle-1.11.375.jar:/home/demo/hadoop/hadoop-3.2.2/share/hadoop/tools/lib/hadoop-aws-3.2.0.jar:/home/demo/spark-avro_2.11:4.0.0.jar')         \n",
    ".config('spark.executor.heartbeatInterval', '800000')\n",
    ".config('spark.network.timeout', '900000')  \n",
    ".config(\"spark.sql.execution.arrow.pyspark.enabled\", \"true\")\n",
    ".config(\"spark.sql.execution.arrow.maxRecordsPerBatch\", \"128\")    \n",
    ".getOrCreate()\n",
    "        )"
   ]
  },
  {
   "cell_type": "markdown",
   "id": "ea9fb3f8",
   "metadata": {},
   "source": [
    "# Load features from local storage"
   ]
  },
  {
   "cell_type": "code",
   "execution_count": 3,
   "id": "a927ba2f",
   "metadata": {},
   "outputs": [
    {
     "name": "stdout",
     "output_type": "stream",
     "text": [
      "root\n",
      " |-- path: string (nullable = true)\n",
      " |-- features: array (nullable = true)\n",
      " |    |-- element: float (containsNull = true)\n",
      " |-- label: string (nullable = true)\n",
      "\n"
     ]
    }
   ],
   "source": [
    "images =(spark\n",
    "         .read\n",
    "         .format(\"parquet\")\n",
    "         .load('Features/Apples-by-label-Training-featured.parquet')\n",
    "        )\n",
    "\n",
    "images.printSchema()"
   ]
  },
  {
   "cell_type": "markdown",
   "id": "2b85aa86",
   "metadata": {},
   "source": [
    "# PCA on features\n",
    "Steps :\n",
    "\n",
    "* Transform array of features to dense vector affected to column vect_features\n",
    "* Standardize with centering reduction\n",
    "* Fit PCA\n",
    "After standardization of featuresessai reduction de dim features -> standard scaler -> spark pca"
   ]
  },
  {
   "cell_type": "code",
   "execution_count": 4,
   "id": "aac28d08",
   "metadata": {},
   "outputs": [
    {
     "name": "stdout",
     "output_type": "stream",
     "text": [
      "root\n",
      " |-- path: string (nullable = true)\n",
      " |-- features: array (nullable = true)\n",
      " |    |-- element: float (containsNull = true)\n",
      " |-- label: string (nullable = true)\n",
      " |-- Vect_features: vector (nullable = true)\n",
      "\n"
     ]
    }
   ],
   "source": [
    "# UDF array -> vector\n",
    "list_to_vector_udf = udf(lambda vs: Vectors.dense([float(i) for i in vs]),\n",
    "                         VectorUDT())\n",
    "# Create new column with vectors\n",
    "images = images.withColumn('Vect_features', list_to_vector_udf(images.features))\n",
    "images.printSchema()"
   ]
  },
  {
   "cell_type": "code",
   "execution_count": 5,
   "id": "8dc4b8e3",
   "metadata": {},
   "outputs": [],
   "source": [
    "# debut essai avec pipeline"
   ]
  },
  {
   "cell_type": "code",
   "execution_count": 6,
   "id": "c8d4959c",
   "metadata": {},
   "outputs": [],
   "source": [
    "# Pipeline stages\n",
    "steps = []\n",
    "\n",
    "# standardize features\n",
    "scaler = StandardScaler(inputCol = 'Vect_features', \n",
    "                        outputCol = 'Scaled_features',\n",
    "                        withMean = True,\n",
    "                        withStd = True\n",
    "                       )\n",
    "steps += [scaler]\n",
    "\n",
    "# PCA \n",
    "pca = PCA(k=2048,\n",
    "          inputCol='Scaled_features',\n",
    "          outputCol='PCA_features')\n",
    "steps += [pca]\n",
    "\n",
    "# pipeline \n",
    "pipeline = Pipeline(stages = steps)\n",
    "\n",
    "# Fit the model pipeline\n",
    "reduction = pipeline.fit(images)\n"
   ]
  },
  {
   "cell_type": "code",
   "execution_count": 7,
   "id": "8009fada",
   "metadata": {},
   "outputs": [
    {
     "name": "stdout",
     "output_type": "stream",
     "text": [
      "183 principal components explains 90.041401% of variance\n"
     ]
    }
   ],
   "source": [
    "VARIANCE_TO_EXPLAIN = 0.90\n",
    "\n",
    "# Components explained variance\n",
    "explained = reduction.stages[-1].explainedVariance.toArray()\n",
    "\n",
    "# Find the components number to explain 90% of variance\n",
    "finished = False\n",
    "componentsNum = 0\n",
    "while not finished:\n",
    "    componentsNum += 1\n",
    "    variance = np.sum(explained[0:componentsNum])\n",
    "    finished = (variance > VARIANCE_TO_EXPLAIN)\n",
    "    \n",
    "print('{} principal components explains {:%} of variance'.format(componentsNum,\n",
    "                                                                np.cumsum(explained[0:componentsNum])[-1]\n",
    "                                                               ))"
   ]
  },
  {
   "cell_type": "code",
   "execution_count": 8,
   "id": "2113d227",
   "metadata": {},
   "outputs": [],
   "source": [
    " \n",
    "# setting k to componentsNum and refit pipeline\n",
    "params={pca.k : componentsNum}\n",
    "reduction = pipeline.fit(images, params= params)"
   ]
  },
  {
   "cell_type": "code",
   "execution_count": 9,
   "id": "2b67b321",
   "metadata": {},
   "outputs": [],
   "source": [
    "# Apply reduction\n",
    "images = reduction.transform(images)"
   ]
  },
  {
   "cell_type": "code",
   "execution_count": 10,
   "id": "044e96ec",
   "metadata": {},
   "outputs": [
    {
     "name": "stdout",
     "output_type": "stream",
     "text": [
      "root\n",
      " |-- path: string (nullable = true)\n",
      " |-- features: array (nullable = true)\n",
      " |    |-- element: float (containsNull = true)\n",
      " |-- label: string (nullable = true)\n",
      " |-- Vect_features: vector (nullable = true)\n",
      " |-- Scaled_features: vector (nullable = true)\n",
      " |-- PCA_features: vector (nullable = true)\n",
      "\n"
     ]
    }
   ],
   "source": [
    "images.printSchema()"
   ]
  },
  {
   "cell_type": "code",
   "execution_count": 11,
   "id": "9f945785",
   "metadata": {},
   "outputs": [
    {
     "name": "stdout",
     "output_type": "stream",
     "text": [
      "root\n",
      " |-- path: string (nullable = true)\n",
      " |-- features: array (nullable = true)\n",
      " |    |-- element: float (containsNull = true)\n",
      " |-- label: string (nullable = true)\n",
      " |-- Vect_features: vector (nullable = true)\n",
      " |-- Scaled_features: vector (nullable = true)\n",
      " |-- PCA_features: vector (nullable = true)\n",
      " |-- feat_array: array (nullable = false)\n",
      " |    |-- element: double (containsNull = false)\n",
      "\n"
     ]
    }
   ],
   "source": [
    "# Transform denseVector to array\n",
    "\n",
    "images = images.withColumn('feat_array', vector_to_array('PCA_features'))\n",
    "images.printSchema()"
   ]
  },
  {
   "cell_type": "code",
   "execution_count": 12,
   "id": "02022d5c",
   "metadata": {},
   "outputs": [],
   "source": [
    "# fin essai avec pipeline"
   ]
  },
  {
   "cell_type": "raw",
   "id": "4e887657",
   "metadata": {},
   "source": [
    "# standardize features\n",
    "scaler = StandardScaler(inputCol = 'Vect_features', \n",
    "                        outputCol = 'Scaled_features',\n",
    "                        withMean = True,\n",
    "                        withStd = True\n",
    "                       ).fit(images)\n",
    "\n",
    "# Apply standardization\n",
    "# images = scaler.transform(images)\n",
    "# images.printSchema()"
   ]
  },
  {
   "cell_type": "markdown",
   "id": "aa9e5393",
   "metadata": {},
   "source": [
    "# Enregistrement"
   ]
  },
  {
   "cell_type": "code",
   "execution_count": 13,
   "id": "de6dbae9",
   "metadata": {},
   "outputs": [],
   "source": [
    "reduction.write().overwrite().save('Features/Apples PCA reduction.model')"
   ]
  },
  {
   "cell_type": "code",
   "execution_count": 14,
   "id": "ddfe660f",
   "metadata": {},
   "outputs": [],
   "source": [
    "# Apply standardization and save to parquet\n",
    "(images\n",
    " .select('path','label','feat_array')\n",
    " .write\n",
    " .partitionBy('label')\n",
    " .mode(\"overwrite\")\n",
    " .parquet(\"Features/Apples-by-label-Training-featured-reducted.parquet\")\n",
    ") "
   ]
  },
  {
   "cell_type": "markdown",
   "id": "95364d66",
   "metadata": {},
   "source": [
    "# End Spark session"
   ]
  },
  {
   "cell_type": "code",
   "execution_count": 15,
   "id": "5ea55eb2",
   "metadata": {},
   "outputs": [],
   "source": [
    "spark.stop()"
   ]
  }
 ],
 "metadata": {
  "kernelspec": {
   "display_name": "Python 3",
   "language": "python",
   "name": "python3"
  },
  "language_info": {
   "codemirror_mode": {
    "name": "ipython",
    "version": 3
   },
   "file_extension": ".py",
   "mimetype": "text/x-python",
   "name": "python",
   "nbconvert_exporter": "python",
   "pygments_lexer": "ipython3",
   "version": "3.8.10"
  },
  "toc": {
   "base_numbering": 1,
   "nav_menu": {},
   "number_sections": true,
   "sideBar": true,
   "skip_h1_title": false,
   "title_cell": "Table of Contents",
   "title_sidebar": "Contents",
   "toc_cell": false,
   "toc_position": {},
   "toc_section_display": true,
   "toc_window_display": false
  }
 },
 "nbformat": 4,
 "nbformat_minor": 5
}
