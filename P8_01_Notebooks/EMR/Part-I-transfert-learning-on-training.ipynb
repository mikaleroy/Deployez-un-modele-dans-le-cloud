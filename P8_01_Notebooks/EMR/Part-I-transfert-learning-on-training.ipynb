{
 "cells": [
  {
   "cell_type": "markdown",
   "id": "d7da74f2",
   "metadata": {},
   "source": [
    "This Notebook steps :\n",
    "    \n",
    "   * Create a Spark session\n",
    "    \n",
    "   * Import training images to proceed, as binary, in a Spark DataFrame\n",
    "    \n",
    "   * Labeling images, by fruit name, extracted from images path \n",
    "    \n",
    "   * Enhance image by tweeking color, sharpness, contrast, brightness\n",
    "    \n",
    "   * Extract 2048 features array by tranfert learning, using Keras Resnet50 CNN\n",
    "    \n",
    "   * Stores path, label and feature array, partitionned by label, in parquet format file on S3 \n",
    "    "
   ]
  },
  {
   "cell_type": "code",
   "execution_count": 1,
   "id": "1205aa18",
   "metadata": {},
   "outputs": [
    {
     "data": {
      "application/vnd.jupyter.widget-view+json": {
       "model_id": "76b544a72e7941ccb7f4913c7a1966bb",
       "version_major": 2,
       "version_minor": 0
      },
      "text/plain": [
       "VBox()"
      ]
     },
     "metadata": {},
     "output_type": "display_data"
    },
    {
     "name": "stdout",
     "output_type": "stream",
     "text": [
      "Starting Spark application\n"
     ]
    },
    {
     "data": {
      "text/html": [
       "<table>\n",
       "<tr><th>ID</th><th>YARN Application ID</th><th>Kind</th><th>State</th><th>Spark UI</th><th>Driver log</th><th>Current session?</th></tr><tr><td>6</td><td>application_1631354174370_0007</td><td>pyspark</td><td>idle</td><td><a target=\"_blank\" href=\"http://ip-172-31-39-177.us-east-2.compute.internal:20888/proxy/application_1631354174370_0007/\" class=\"emr-proxy-link\" emr-resource=\"j-3QAYG7SSMUHKA\n",
       "\" application-id=\"application_1631354174370_0007\">Link</a></td><td><a target=\"_blank\" href=\"http://ip-172-31-36-179.us-east-2.compute.internal:8042/node/containerlogs/container_1631354174370_0007_01_000001/livy\" >Link</a></td><td>✔</td></tr></table>"
      ],
      "text/plain": [
       "<IPython.core.display.HTML object>"
      ]
     },
     "metadata": {},
     "output_type": "display_data"
    },
    {
     "data": {
      "application/vnd.jupyter.widget-view+json": {
       "model_id": "",
       "version_major": 2,
       "version_minor": 0
      },
      "text/plain": [
       "FloatProgress(value=0.0, bar_style='info', description='Progress:', layout=Layout(height='25px', width='50%'),…"
      ]
     },
     "metadata": {},
     "output_type": "display_data"
    },
    {
     "name": "stdout",
     "output_type": "stream",
     "text": [
      "SparkSession available as 'spark'.\n"
     ]
    },
    {
     "data": {
      "application/vnd.jupyter.widget-view+json": {
       "model_id": "",
       "version_major": 2,
       "version_minor": 0
      },
      "text/plain": [
       "FloatProgress(value=0.0, bar_style='info', description='Progress:', layout=Layout(height='25px', width='50%'),…"
      ]
     },
     "metadata": {},
     "output_type": "display_data"
    },
    {
     "name": "stdout",
     "output_type": "stream",
     "text": [
      "Welcome to my EMR Notebook!"
     ]
    }
   ],
   "source": [
    "print('Welcome to my EMR Notebook!')"
   ]
  },
  {
   "cell_type": "raw",
   "id": "5c26b7fd",
   "metadata": {},
   "source": [
    "%%info"
   ]
  },
  {
   "cell_type": "raw",
   "id": "ab146587",
   "metadata": {},
   "source": [
    "sc.list_packages()"
   ]
  },
  {
   "cell_type": "markdown",
   "id": "f456aa2b",
   "metadata": {},
   "source": [
    "# Install dependencies"
   ]
  },
  {
   "cell_type": "code",
   "execution_count": 2,
   "id": "50b76109",
   "metadata": {},
   "outputs": [
    {
     "data": {
      "application/vnd.jupyter.widget-view+json": {
       "model_id": "7f661682fd0a4b9bb514cdc49a50d1cd",
       "version_major": 2,
       "version_minor": 0
      },
      "text/plain": [
       "VBox()"
      ]
     },
     "metadata": {},
     "output_type": "display_data"
    },
    {
     "data": {
      "application/vnd.jupyter.widget-view+json": {
       "model_id": "",
       "version_major": 2,
       "version_minor": 0
      },
      "text/plain": [
       "FloatProgress(value=0.0, bar_style='info', description='Progress:', layout=Layout(height='25px', width='50%'),…"
      ]
     },
     "metadata": {},
     "output_type": "display_data"
    },
    {
     "name": "stdout",
     "output_type": "stream",
     "text": [
      "Collecting pandas==1.2.5\n",
      "  Using cached https://files.pythonhosted.org/packages/e6/0a/90da8840e044c329a0271fb0244ff40a68a2615bc360c296a3dc5e326ab6/pandas-1.2.5-cp37-cp37m-manylinux_2_5_x86_64.manylinux1_x86_64.whl\n",
      "Requirement already satisfied: numpy>=1.16.5 in /usr/local/lib64/python3.7/site-packages (from pandas==1.2.5)\n",
      "Requirement already satisfied: pytz>=2017.3 in /usr/local/lib/python3.7/site-packages (from pandas==1.2.5)\n",
      "Collecting python-dateutil>=2.7.3 (from pandas==1.2.5)\n",
      "  Using cached https://files.pythonhosted.org/packages/36/7a/87837f39d0296e723bb9b62bbb257d0355c7f6128853c78955f57342a56d/python_dateutil-2.8.2-py2.py3-none-any.whl\n",
      "Requirement already satisfied: six>=1.5 in /usr/local/lib/python3.7/site-packages (from python-dateutil>=2.7.3->pandas==1.2.5)\n",
      "Installing collected packages: python-dateutil, pandas\n",
      "Successfully installed pandas-1.2.5 python-dateutil-2.8.2\n",
      "\n",
      "Collecting pillow\n",
      "  Using cached https://files.pythonhosted.org/packages/d6/28/827b9cac687e086110eb133ab7e4f36ab4b35a1e1654c6329840ce045354/Pillow-8.3.2-cp37-cp37m-manylinux_2_5_x86_64.manylinux1_x86_64.whl\n",
      "Installing collected packages: pillow\n",
      "Successfully installed pillow-8.3.2\n",
      "\n",
      "Collecting pyarrow==2\n",
      "  Using cached https://files.pythonhosted.org/packages/c8/58/d07e7ee8b0cffe509f9e5a3742e09636a4a58b2113d193166615b934846f/pyarrow-2.0.0-cp37-cp37m-manylinux1_x86_64.whl\n",
      "Requirement already satisfied: numpy>=1.14 in /usr/local/lib64/python3.7/site-packages (from pyarrow==2)\n",
      "Installing collected packages: pyarrow\n",
      "Successfully installed pyarrow-2.0.0"
     ]
    }
   ],
   "source": [
    "sc.install_pypi_package('pandas==1.2.5')\n",
    "\n",
    "sc.install_pypi_package('pillow')\n",
    "\n",
    "sc.install_pypi_package('pyarrow==2')"
   ]
  },
  {
   "cell_type": "markdown",
   "id": "d60d8764",
   "metadata": {},
   "source": [
    "# Imports"
   ]
  },
  {
   "cell_type": "code",
   "execution_count": 3,
   "id": "ef4154b5",
   "metadata": {},
   "outputs": [
    {
     "data": {
      "application/vnd.jupyter.widget-view+json": {
       "model_id": "ce400b5d70244e498f732df45171c2c8",
       "version_major": 2,
       "version_minor": 0
      },
      "text/plain": [
       "VBox()"
      ]
     },
     "metadata": {},
     "output_type": "display_data"
    },
    {
     "data": {
      "application/vnd.jupyter.widget-view+json": {
       "model_id": "",
       "version_major": 2,
       "version_minor": 0
      },
      "text/plain": [
       "FloatProgress(value=0.0, bar_style='info', description='Progress:', layout=Layout(height='25px', width='50%'),…"
      ]
     },
     "metadata": {},
     "output_type": "display_data"
    }
   ],
   "source": [
    "import pandas as pd\n",
    "\n",
    "from PIL import Image\n",
    "\n",
    "from PIL import ImageEnhance\n",
    "\n",
    "import numpy as np\n",
    "\n",
    "import io\n",
    "\n",
    "import os\n",
    "\n",
    "from pyspark.sql import SparkSession\n",
    "\n",
    "from pyspark.sql.functions import col, pandas_udf, udf, PandasUDFType, size\n",
    "\n",
    "from pyspark.sql import types \n",
    "\n",
    "from pyspark import SparkContext, SparkConf\n",
    "\n",
    "import tensorflow as tf\n",
    "\n",
    "from tensorflow.keras.models import Model\n",
    "\n",
    "from tensorflow.keras.applications.resnet50 import ResNet50, preprocess_input\n",
    "\n",
    "from tensorflow.keras.preprocessing.image import img_to_array"
   ]
  },
  {
   "cell_type": "code",
   "execution_count": 4,
   "id": "e2bb506e",
   "metadata": {},
   "outputs": [
    {
     "data": {
      "application/vnd.jupyter.widget-view+json": {
       "model_id": "4deffa6b95f84de182171b8db5d34c85",
       "version_major": 2,
       "version_minor": 0
      },
      "text/plain": [
       "VBox()"
      ]
     },
     "metadata": {},
     "output_type": "display_data"
    },
    {
     "data": {
      "application/vnd.jupyter.widget-view+json": {
       "model_id": "",
       "version_major": 2,
       "version_minor": 0
      },
      "text/plain": [
       "FloatProgress(value=0.0, bar_style='info', description='Progress:', layout=Layout(height='25px', width='50%'),…"
      ]
     },
     "metadata": {},
     "output_type": "display_data"
    }
   ],
   "source": [
    "# Constants\n",
    "\n",
    "LOAD_PATH = 's3a://fruits-images-to-proceed/Training/'\n",
    "\n",
    "SAVE_PATH = 's3a://fruits-images-proceded/Training_featured.parquet'"
   ]
  },
  {
   "cell_type": "markdown",
   "id": "4d01f4a4",
   "metadata": {},
   "source": [
    "# Enable pyArrow"
   ]
  },
  {
   "cell_type": "code",
   "execution_count": 5,
   "id": "6388818a",
   "metadata": {},
   "outputs": [
    {
     "data": {
      "application/vnd.jupyter.widget-view+json": {
       "model_id": "4017eb19d9ab441fa94230e4d7d0b613",
       "version_major": 2,
       "version_minor": 0
      },
      "text/plain": [
       "VBox()"
      ]
     },
     "metadata": {},
     "output_type": "display_data"
    },
    {
     "data": {
      "application/vnd.jupyter.widget-view+json": {
       "model_id": "",
       "version_major": 2,
       "version_minor": 0
      },
      "text/plain": [
       "FloatProgress(value=0.0, bar_style='info', description='Progress:', layout=Layout(height='25px', width='50%'),…"
      ]
     },
     "metadata": {},
     "output_type": "display_data"
    }
   ],
   "source": [
    "spark.conf.set('spark.sql.execution.arrow.pyspark.enabled', 'true')"
   ]
  },
  {
   "cell_type": "markdown",
   "id": "98287eeb",
   "metadata": {},
   "source": [
    "# Load images from storage"
   ]
  },
  {
   "cell_type": "code",
   "execution_count": 6,
   "id": "aa07425f",
   "metadata": {},
   "outputs": [
    {
     "data": {
      "application/vnd.jupyter.widget-view+json": {
       "model_id": "956b738947974949b86eb2f1d1468c58",
       "version_major": 2,
       "version_minor": 0
      },
      "text/plain": [
       "VBox()"
      ]
     },
     "metadata": {},
     "output_type": "display_data"
    },
    {
     "data": {
      "application/vnd.jupyter.widget-view+json": {
       "model_id": "",
       "version_major": 2,
       "version_minor": 0
      },
      "text/plain": [
       "FloatProgress(value=0.0, bar_style='info', description='Progress:', layout=Layout(height='25px', width='50%'),…"
      ]
     },
     "metadata": {},
     "output_type": "display_data"
    },
    {
     "name": "stdout",
     "output_type": "stream",
     "text": [
      "root\n",
      " |-- path: string (nullable = true)\n",
      " |-- modificationTime: timestamp (nullable = true)\n",
      " |-- length: long (nullable = true)\n",
      " |-- content: binary (nullable = true)"
     ]
    }
   ],
   "source": [
    "# Read jpg images as binary, recursively\n",
    "images =(spark\n",
    "         .read\n",
    "         .format('binaryFile')\n",
    "         .option('pathGlobFilter', '*.jpg')\n",
    "         .option('recursiveFileLookup', 'true')\n",
    "         .load(LOAD_PATH)\n",
    "        )\n",
    "\n",
    "images.printSchema()"
   ]
  },
  {
   "cell_type": "code",
   "execution_count": 7,
   "id": "ee67665a",
   "metadata": {
    "scrolled": true
   },
   "outputs": [
    {
     "data": {
      "application/vnd.jupyter.widget-view+json": {
       "model_id": "293e2e745325492181a03b73648953bc",
       "version_major": 2,
       "version_minor": 0
      },
      "text/plain": [
       "VBox()"
      ]
     },
     "metadata": {},
     "output_type": "display_data"
    },
    {
     "data": {
      "application/vnd.jupyter.widget-view+json": {
       "model_id": "",
       "version_major": 2,
       "version_minor": 0
      },
      "text/plain": [
       "FloatProgress(value=0.0, bar_style='info', description='Progress:', layout=Layout(height='25px', width='50%'),…"
      ]
     },
     "metadata": {},
     "output_type": "display_data"
    },
    {
     "name": "stdout",
     "output_type": "stream",
     "text": [
      "Total number of images in train set 67692"
     ]
    }
   ],
   "source": [
    "# Total number of images\n",
    "totalMunber = images.count()\n",
    "print('Total number of images in train set {}'.format(totalMunber))"
   ]
  },
  {
   "cell_type": "markdown",
   "id": "1040b5a6",
   "metadata": {},
   "source": [
    "## Retrieve labels from image path"
   ]
  },
  {
   "cell_type": "code",
   "execution_count": 8,
   "id": "04ebd137",
   "metadata": {},
   "outputs": [
    {
     "data": {
      "application/vnd.jupyter.widget-view+json": {
       "model_id": "9bb64206746a4f69934565a3bc2db503",
       "version_major": 2,
       "version_minor": 0
      },
      "text/plain": [
       "VBox()"
      ]
     },
     "metadata": {},
     "output_type": "display_data"
    },
    {
     "data": {
      "application/vnd.jupyter.widget-view+json": {
       "model_id": "",
       "version_major": 2,
       "version_minor": 0
      },
      "text/plain": [
       "FloatProgress(value=0.0, bar_style='info', description='Progress:', layout=Layout(height='25px', width='50%'),…"
      ]
     },
     "metadata": {},
     "output_type": "display_data"
    }
   ],
   "source": [
    "# Offset of starting image name\n",
    "label_offset = len(LOAD_PATH)"
   ]
  },
  {
   "cell_type": "code",
   "execution_count": 9,
   "id": "3a40e481",
   "metadata": {},
   "outputs": [
    {
     "data": {
      "application/vnd.jupyter.widget-view+json": {
       "model_id": "65cb8c59b88d4765a93f4bc740f04bbd",
       "version_major": 2,
       "version_minor": 0
      },
      "text/plain": [
       "VBox()"
      ]
     },
     "metadata": {},
     "output_type": "display_data"
    },
    {
     "data": {
      "application/vnd.jupyter.widget-view+json": {
       "model_id": "",
       "version_major": 2,
       "version_minor": 0
      },
      "text/plain": [
       "FloatProgress(value=0.0, bar_style='info', description='Progress:', layout=Layout(height='25px', width='50%'),…"
      ]
     },
     "metadata": {},
     "output_type": "display_data"
    }
   ],
   "source": [
    "#Get only fruit name from path\n",
    "\n",
    "col_label = udf(lambda s : extract_label(s), types.StringType())\n",
    "\n",
    "def extract_label(s):\n",
    "    last = s[label_offset :]\n",
    "    return last[:last.rfind('/')]"
   ]
  },
  {
   "cell_type": "code",
   "execution_count": 10,
   "id": "1edc6e80",
   "metadata": {},
   "outputs": [
    {
     "data": {
      "application/vnd.jupyter.widget-view+json": {
       "model_id": "f4210e17d21d4d80b240bd849cbcec64",
       "version_major": 2,
       "version_minor": 0
      },
      "text/plain": [
       "VBox()"
      ]
     },
     "metadata": {},
     "output_type": "display_data"
    },
    {
     "data": {
      "application/vnd.jupyter.widget-view+json": {
       "model_id": "",
       "version_major": 2,
       "version_minor": 0
      },
      "text/plain": [
       "FloatProgress(value=0.0, bar_style='info', description='Progress:', layout=Layout(height='25px', width='50%'),…"
      ]
     },
     "metadata": {},
     "output_type": "display_data"
    },
    {
     "name": "stdout",
     "output_type": "stream",
     "text": [
      "root\n",
      " |-- path: string (nullable = true)\n",
      " |-- modificationTime: timestamp (nullable = true)\n",
      " |-- length: long (nullable = true)\n",
      " |-- content: binary (nullable = true)\n",
      " |-- label: string (nullable = true)"
     ]
    }
   ],
   "source": [
    "# Create label column\n",
    "images = images.withColumn('label',col_label(images.path))\n",
    "images.printSchema()"
   ]
  },
  {
   "cell_type": "code",
   "execution_count": 11,
   "id": "fc9ec3ed",
   "metadata": {},
   "outputs": [
    {
     "data": {
      "application/vnd.jupyter.widget-view+json": {
       "model_id": "fd161156b47a43298e7d07d42da02413",
       "version_major": 2,
       "version_minor": 0
      },
      "text/plain": [
       "VBox()"
      ]
     },
     "metadata": {},
     "output_type": "display_data"
    },
    {
     "data": {
      "application/vnd.jupyter.widget-view+json": {
       "model_id": "",
       "version_major": 2,
       "version_minor": 0
      },
      "text/plain": [
       "FloatProgress(value=0.0, bar_style='info', description='Progress:', layout=Layout(height='25px', width='50%'),…"
      ]
     },
     "metadata": {},
     "output_type": "display_data"
    },
    {
     "name": "stdout",
     "output_type": "stream",
     "text": [
      "+--------------+\n",
      "|label         |\n",
      "+--------------+\n",
      "|Raspberry     |\n",
      "|Raspberry     |\n",
      "|Pineapple Mini|\n",
      "|Raspberry     |\n",
      "|Raspberry     |\n",
      "|Raspberry     |\n",
      "|Pineapple Mini|\n",
      "|Raspberry     |\n",
      "|Raspberry     |\n",
      "|Raspberry     |\n",
      "|Raspberry     |\n",
      "|Raspberry     |\n",
      "|Raspberry     |\n",
      "|Raspberry     |\n",
      "|Raspberry     |\n",
      "|Raspberry     |\n",
      "|Raspberry     |\n",
      "|Raspberry     |\n",
      "|Raspberry     |\n",
      "|Raspberry     |\n",
      "+--------------+\n",
      "only showing top 20 rows"
     ]
    }
   ],
   "source": [
    "#Get only fruit name from path\n",
    "images.select('label').show(truncate=False)"
   ]
  },
  {
   "cell_type": "code",
   "execution_count": 12,
   "id": "09288849",
   "metadata": {},
   "outputs": [
    {
     "data": {
      "application/vnd.jupyter.widget-view+json": {
       "model_id": "346a3f550620446a8fecb4a670b0cc10",
       "version_major": 2,
       "version_minor": 0
      },
      "text/plain": [
       "VBox()"
      ]
     },
     "metadata": {},
     "output_type": "display_data"
    },
    {
     "data": {
      "application/vnd.jupyter.widget-view+json": {
       "model_id": "",
       "version_major": 2,
       "version_minor": 0
      },
      "text/plain": [
       "FloatProgress(value=0.0, bar_style='info', description='Progress:', layout=Layout(height='25px', width='50%'),…"
      ]
     },
     "metadata": {},
     "output_type": "display_data"
    },
    {
     "name": "stdout",
     "output_type": "stream",
     "text": [
      "By label images count :\n",
      "+-----------------+-----+\n",
      "|            label|count|\n",
      "+-----------------+-----+\n",
      "|       Clementine|  490|\n",
      "|     Cantaloupe 1|  492|\n",
      "|     Pear Forelle|  702|\n",
      "|           Orange|  479|\n",
      "|      Onion White|  438|\n",
      "|    Pepper Orange|  702|\n",
      "|              Fig|  702|\n",
      "| Strawberry Wedge|  738|\n",
      "|  Grapefruit Pink|  490|\n",
      "|         Beetroot|  450|\n",
      "|      Cauliflower|  702|\n",
      "|     Potato White|  450|\n",
      "|Tomato Cherry Red|  492|\n",
      "|    Grape White 4|  471|\n",
      "|       Grape Blue|  984|\n",
      "|     Cantaloupe 2|  492|\n",
      "|    Passion Fruit|  490|\n",
      "|        Mango Red|  426|\n",
      "|       Nut Forest|  654|\n",
      "|    Grape White 3|  492|\n",
      "+-----------------+-----+\n",
      "only showing top 20 rows"
     ]
    }
   ],
   "source": [
    "# By label count\n",
    "print('By label images count :')\n",
    "images.groupBy('label').count().show()"
   ]
  },
  {
   "cell_type": "markdown",
   "id": "6c74fc66",
   "metadata": {},
   "source": [
    "# Images enhancement"
   ]
  },
  {
   "cell_type": "code",
   "execution_count": 13,
   "id": "0e4d6ca3",
   "metadata": {},
   "outputs": [
    {
     "data": {
      "application/vnd.jupyter.widget-view+json": {
       "model_id": "852610a06cdc409b8afe2cbd11292857",
       "version_major": 2,
       "version_minor": 0
      },
      "text/plain": [
       "VBox()"
      ]
     },
     "metadata": {},
     "output_type": "display_data"
    },
    {
     "data": {
      "application/vnd.jupyter.widget-view+json": {
       "model_id": "",
       "version_major": 2,
       "version_minor": 0
      },
      "text/plain": [
       "FloatProgress(value=0.0, bar_style='info', description='Progress:', layout=Layout(height='25px', width='50%'),…"
      ]
     },
     "metadata": {},
     "output_type": "display_data"
    }
   ],
   "source": [
    "# Enhance image\n",
    "def enhance(img,\n",
    "            color = 1.25,\n",
    "            sharpness = 4.5,\n",
    "            contrast = 1.25,\n",
    "            brigthness= 1.5):\n",
    "    colorEnhancer = ImageEnhance.Color(img)\n",
    "    img = colorEnhancer.enhance(color)\n",
    "    \n",
    "    sharpnessEnhancer = ImageEnhance.Sharpness(img)\n",
    "    sharpnessEnhancer.enhance(sharpness)\n",
    "    \n",
    "    contrastEnhancer = ImageEnhance.Contrast(img)\n",
    "    contrastEnhancer.enhance(contrast)\n",
    "    \n",
    "    brigthnessEnhancer = ImageEnhance.Brightness(img)\n",
    "    brigthnessEnhancer.enhance(brigthness)\n",
    "    \n",
    "    return img"
   ]
  },
  {
   "cell_type": "markdown",
   "id": "7a2a6d00",
   "metadata": {},
   "source": [
    "# Transfert learning (Resnet50)"
   ]
  },
  {
   "cell_type": "code",
   "execution_count": 14,
   "id": "f9649aa8",
   "metadata": {},
   "outputs": [
    {
     "data": {
      "application/vnd.jupyter.widget-view+json": {
       "model_id": "a83e98fea42447579f3e008e8b34c72c",
       "version_major": 2,
       "version_minor": 0
      },
      "text/plain": [
       "VBox()"
      ]
     },
     "metadata": {},
     "output_type": "display_data"
    },
    {
     "data": {
      "application/vnd.jupyter.widget-view+json": {
       "model_id": "",
       "version_major": 2,
       "version_minor": 0
      },
      "text/plain": [
       "FloatProgress(value=0.0, bar_style='info', description='Progress:', layout=Layout(height='25px', width='50%'),…"
      ]
     },
     "metadata": {},
     "output_type": "display_data"
    }
   ],
   "source": [
    "def model_fn():\n",
    "    '''\n",
    "    Returns a ResNet50 model with top layer removed\n",
    "    '''\n",
    "    # imports Resnet\n",
    "    resnet_full = ResNet50()\n",
    "    # Create model excluding last classification layer\n",
    "    model = Model(inputs = resnet_full.inputs,\n",
    "                  outputs = resnet_full.layers[-2].output)\n",
    "   \n",
    "    return model"
   ]
  },
  {
   "cell_type": "code",
   "execution_count": 15,
   "id": "08b84866",
   "metadata": {},
   "outputs": [
    {
     "data": {
      "application/vnd.jupyter.widget-view+json": {
       "model_id": "80b748ebac0144219143a21223f91a17",
       "version_major": 2,
       "version_minor": 0
      },
      "text/plain": [
       "VBox()"
      ]
     },
     "metadata": {},
     "output_type": "display_data"
    },
    {
     "data": {
      "application/vnd.jupyter.widget-view+json": {
       "model_id": "",
       "version_major": 2,
       "version_minor": 0
      },
      "text/plain": [
       "FloatProgress(value=0.0, bar_style='info', description='Progress:', layout=Layout(height='25px', width='50%'),…"
      ]
     },
     "metadata": {},
     "output_type": "display_data"
    }
   ],
   "source": [
    "def preprocess(content):\n",
    "    '''\n",
    "    Preprocesses raw image bytes for prediction.\n",
    "    '''\n",
    "    # load raw image from dataframe and resize it to ResNet specifications\n",
    "    img = Image.open(io.BytesIO(content)).resize([224, 224])\n",
    "    # Enhance image\n",
    "    img = enhance(img)\n",
    "    # image to Tensor array\n",
    "    arr = img_to_array(img)\n",
    "    # return ResNet50 preprocessed image\n",
    "    return preprocess_input(arr)\n",
    "\n",
    "\n",
    "def featurize_series(model, content_series):\n",
    "    '''\n",
    "    Featurize a pd.Series of raw images using the input model.\n",
    "    :return: a pd.Series of image features\n",
    "    '''\n",
    "    #   input = np.stack(content_series.map(preprocess))\n",
    "    input = tf.convert_to_tensor(np.stack(content_series.map(preprocess)), dtype=tf.float32)\n",
    "    # features from image\n",
    "    preds = model.predict(input)\n",
    "    # For some layers, output features will be multi-dimensional tensors.\n",
    "    # We flatten the feature tensors to vectors for easier storage in Spark DataFrames.\n",
    "    output = [p.flatten() for p in preds]\n",
    "    # return features vector\n",
    "    return pd.Series(output)\n"
   ]
  },
  {
   "cell_type": "code",
   "execution_count": 16,
   "id": "cc1b1795",
   "metadata": {},
   "outputs": [
    {
     "data": {
      "application/vnd.jupyter.widget-view+json": {
       "model_id": "fa4906bf01ef4d72ac01174663fcc7c9",
       "version_major": 2,
       "version_minor": 0
      },
      "text/plain": [
       "VBox()"
      ]
     },
     "metadata": {},
     "output_type": "display_data"
    },
    {
     "data": {
      "application/vnd.jupyter.widget-view+json": {
       "model_id": "",
       "version_major": 2,
       "version_minor": 0
      },
      "text/plain": [
       "FloatProgress(value=0.0, bar_style='info', description='Progress:', layout=Layout(height='25px', width='50%'),…"
      ]
     },
     "metadata": {},
     "output_type": "display_data"
    }
   ],
   "source": [
    "from typing import Iterator\n",
    "\n",
    "@pandas_udf('array<float>')\n",
    "def featurize_udf(content_series_iter: Iterator[pd.Series]) -> Iterator[pd.Series]:\n",
    "  '''\n",
    "  This method is a Scalar Iterator pandas UDF wrapping our featurization function.\n",
    "  The decorator specifies that this returns a Spark DataFrame column of type ArrayType(FloatType).\n",
    "  \n",
    "  :param content_series_iter: This argument is an iterator over batches of data, where each batch\n",
    "                              is a pandas Series of image data.\n",
    "  ''' \n",
    "  # With Scalar Iterator pandas UDFs, we can load the model once and then re-use it\n",
    "  # for multiple data batches.  This amortizes the overhead of loading big models.\n",
    "  model = model_fn()\n",
    "  for content_series in content_series_iter:\n",
    "    yield featurize_series(model, content_series)"
   ]
  },
  {
   "cell_type": "markdown",
   "id": "d2d5b8a3",
   "metadata": {},
   "source": [
    "Apply featurization to the DataFrame of images"
   ]
  },
  {
   "cell_type": "code",
   "execution_count": 17,
   "id": "16e6fba3",
   "metadata": {},
   "outputs": [
    {
     "data": {
      "application/vnd.jupyter.widget-view+json": {
       "model_id": "b99ff1922b0643cb9fe5f0a16bdfc714",
       "version_major": 2,
       "version_minor": 0
      },
      "text/plain": [
       "VBox()"
      ]
     },
     "metadata": {},
     "output_type": "display_data"
    },
    {
     "data": {
      "application/vnd.jupyter.widget-view+json": {
       "model_id": "",
       "version_major": 2,
       "version_minor": 0
      },
      "text/plain": [
       "FloatProgress(value=0.0, bar_style='info', description='Progress:', layout=Layout(height='25px', width='50%'),…"
      ]
     },
     "metadata": {},
     "output_type": "display_data"
    }
   ],
   "source": [
    "# Avoiding Out Of Memory (OOM) errors by reducing the Arrow batch size\n",
    "spark.conf.set('spark.sql.execution.arrow.maxRecordsPerBatch', '512')"
   ]
  },
  {
   "cell_type": "code",
   "execution_count": 18,
   "id": "1e5af1bf",
   "metadata": {},
   "outputs": [
    {
     "data": {
      "application/vnd.jupyter.widget-view+json": {
       "model_id": "074ec23031294f5bb986bad2adc62cc0",
       "version_major": 2,
       "version_minor": 0
      },
      "text/plain": [
       "VBox()"
      ]
     },
     "metadata": {},
     "output_type": "display_data"
    },
    {
     "data": {
      "application/vnd.jupyter.widget-view+json": {
       "model_id": "",
       "version_major": 2,
       "version_minor": 0
      },
      "text/plain": [
       "FloatProgress(value=0.0, bar_style='info', description='Progress:', layout=Layout(height='25px', width='50%'),…"
      ]
     },
     "metadata": {},
     "output_type": "display_data"
    },
    {
     "name": "stdout",
     "output_type": "stream",
     "text": [
      "root\n",
      " |-- path: string (nullable = true)\n",
      " |-- modificationTime: timestamp (nullable = true)\n",
      " |-- length: long (nullable = true)\n",
      " |-- content: binary (nullable = true)\n",
      " |-- label: string (nullable = true)\n",
      " |-- features: array (nullable = true)\n",
      " |    |-- element: float (containsNull = true)"
     ]
    }
   ],
   "source": [
    "# Transfert learning \n",
    "images = images.withColumn('features', featurize_udf(images.content))\n",
    "images.printSchema()"
   ]
  },
  {
   "cell_type": "raw",
   "id": "6e6aa25a",
   "metadata": {},
   "source": [
    "images.show()"
   ]
  },
  {
   "cell_type": "markdown",
   "id": "f64d76f3",
   "metadata": {},
   "source": [
    "   # Save to storage"
   ]
  },
  {
   "cell_type": "code",
   "execution_count": 19,
   "id": "9cfd3e29",
   "metadata": {},
   "outputs": [
    {
     "data": {
      "application/vnd.jupyter.widget-view+json": {
       "model_id": "1fae7d2a4b88467d9a59f72e312934a8",
       "version_major": 2,
       "version_minor": 0
      },
      "text/plain": [
       "VBox()"
      ]
     },
     "metadata": {},
     "output_type": "display_data"
    },
    {
     "data": {
      "application/vnd.jupyter.widget-view+json": {
       "model_id": "",
       "version_major": 2,
       "version_minor": 0
      },
      "text/plain": [
       "FloatProgress(value=0.0, bar_style='info', description='Progress:', layout=Layout(height='25px', width='50%'),…"
      ]
     },
     "metadata": {},
     "output_type": "display_data"
    }
   ],
   "source": [
    "# Save Spark DataFrame, partitionned by label, in S3 Bucket\n",
    "(images\n",
    " .select('path','label','features')\n",
    " .write\n",
    " .partitionBy('label')\n",
    " .mode('overwrite')\n",
    " .parquet(SAVE_PATH)\n",
    ") "
   ]
  },
  {
   "cell_type": "markdown",
   "id": "e352d1b4",
   "metadata": {},
   "source": [
    "# End Spark session"
   ]
  },
  {
   "cell_type": "code",
   "execution_count": 20,
   "id": "4f0f5d22",
   "metadata": {},
   "outputs": [
    {
     "data": {
      "application/vnd.jupyter.widget-view+json": {
       "model_id": "a5df30a3bed94d1c9bf90a6c80de45d6",
       "version_major": 2,
       "version_minor": 0
      },
      "text/plain": [
       "VBox()"
      ]
     },
     "metadata": {},
     "output_type": "display_data"
    },
    {
     "data": {
      "application/vnd.jupyter.widget-view+json": {
       "model_id": "",
       "version_major": 2,
       "version_minor": 0
      },
      "text/plain": [
       "FloatProgress(value=0.0, bar_style='info', description='Progress:', layout=Layout(height='25px', width='50%'),…"
      ]
     },
     "metadata": {},
     "output_type": "display_data"
    }
   ],
   "source": [
    "spark.stop()"
   ]
  }
 ],
 "metadata": {
  "kernelspec": {
   "display_name": "PySpark",
   "language": "",
   "name": "pysparkkernel"
  },
  "language_info": {
   "codemirror_mode": {
    "name": "python",
    "version": 3
   },
   "mimetype": "text/x-python",
   "name": "pyspark",
   "pygments_lexer": "python3"
  }
 },
 "nbformat": 4,
 "nbformat_minor": 5
}
