{
 "cells": [
  {
   "cell_type": "markdown",
   "id": "b9da7d9d",
   "metadata": {},
   "source": [
    "This Notebook steps :\n",
    "    \n",
    "   * Create a Spark session\n",
    "    \n",
    "   * Import Train&Test features, in Spark DataFrames\n",
    "    \n",
    "   * Make Pipeline with stages:\n",
    "       - Encode labels\n",
    "       - Multiclass logistic regression \n",
    "    \n",
    "   * Classification metrics evaluation on Test\n",
    "    \n",
    "   * Small gridsearch for hyperparameters for accuracy improvement (just to implement it)\n",
    "    \n",
    "   * Best model evaluation metrics"
   ]
  },
  {
   "cell_type": "code",
   "execution_count": 1,
   "id": "3524f5fe",
   "metadata": {},
   "outputs": [
    {
     "data": {
      "application/vnd.jupyter.widget-view+json": {
       "model_id": "8db5bf698808451a8eb85026d11f5131",
       "version_major": 2,
       "version_minor": 0
      },
      "text/plain": [
       "VBox()"
      ]
     },
     "metadata": {},
     "output_type": "display_data"
    },
    {
     "name": "stdout",
     "output_type": "stream",
     "text": [
      "Starting Spark application\n"
     ]
    },
    {
     "data": {
      "text/html": [
       "<table>\n",
       "<tr><th>ID</th><th>YARN Application ID</th><th>Kind</th><th>State</th><th>Spark UI</th><th>Driver log</th><th>Current session?</th></tr><tr><td>0</td><td>application_1633082026362_0001</td><td>pyspark</td><td>idle</td><td><a target=\"_blank\" href=\"http://ip-172-31-38-178.us-east-2.compute.internal:20888/proxy/application_1633082026362_0001/\" class=\"emr-proxy-link\" emr-resource=\"j-1EKH2R4RTWJST\n",
       "\" application-id=\"application_1633082026362_0001\">Link</a></td><td><a target=\"_blank\" href=\"http://ip-172-31-43-202.us-east-2.compute.internal:8042/node/containerlogs/container_1633082026362_0001_01_000001/livy\" >Link</a></td><td>✔</td></tr></table>"
      ],
      "text/plain": [
       "<IPython.core.display.HTML object>"
      ]
     },
     "metadata": {},
     "output_type": "display_data"
    },
    {
     "data": {
      "application/vnd.jupyter.widget-view+json": {
       "model_id": "",
       "version_major": 2,
       "version_minor": 0
      },
      "text/plain": [
       "FloatProgress(value=0.0, bar_style='info', description='Progress:', layout=Layout(height='25px', width='50%'),…"
      ]
     },
     "metadata": {},
     "output_type": "display_data"
    },
    {
     "name": "stdout",
     "output_type": "stream",
     "text": [
      "SparkSession available as 'spark'.\n"
     ]
    },
    {
     "data": {
      "application/vnd.jupyter.widget-view+json": {
       "model_id": "",
       "version_major": 2,
       "version_minor": 0
      },
      "text/plain": [
       "FloatProgress(value=0.0, bar_style='info', description='Progress:', layout=Layout(height='25px', width='50%'),…"
      ]
     },
     "metadata": {},
     "output_type": "display_data"
    },
    {
     "name": "stdout",
     "output_type": "stream",
     "text": [
      "Welcome to my EMR Notebook!"
     ]
    }
   ],
   "source": [
    "print('Welcome to my EMR Notebook!')"
   ]
  },
  {
   "cell_type": "raw",
   "id": "20b0b506",
   "metadata": {},
   "source": [
    "%%info"
   ]
  },
  {
   "cell_type": "raw",
   "id": "af75fd7a",
   "metadata": {},
   "source": [
    "sc.list_packages()"
   ]
  },
  {
   "cell_type": "markdown",
   "id": "01fbdb95",
   "metadata": {},
   "source": [
    "# Install dependencies"
   ]
  },
  {
   "cell_type": "code",
   "execution_count": 2,
   "id": "ffa32b9b",
   "metadata": {},
   "outputs": [
    {
     "data": {
      "application/vnd.jupyter.widget-view+json": {
       "model_id": "680e62c9a9c74ca3a151a85873359945",
       "version_major": 2,
       "version_minor": 0
      },
      "text/plain": [
       "VBox()"
      ]
     },
     "metadata": {},
     "output_type": "display_data"
    },
    {
     "data": {
      "application/vnd.jupyter.widget-view+json": {
       "model_id": "",
       "version_major": 2,
       "version_minor": 0
      },
      "text/plain": [
       "FloatProgress(value=0.0, bar_style='info', description='Progress:', layout=Layout(height='25px', width='50%'),…"
      ]
     },
     "metadata": {},
     "output_type": "display_data"
    },
    {
     "name": "stdout",
     "output_type": "stream",
     "text": [
      "Collecting pandas==1.2.5\n",
      "  Downloading https://files.pythonhosted.org/packages/e6/0a/90da8840e044c329a0271fb0244ff40a68a2615bc360c296a3dc5e326ab6/pandas-1.2.5-cp37-cp37m-manylinux_2_5_x86_64.manylinux1_x86_64.whl (9.9MB)\n",
      "Requirement already satisfied: numpy>=1.16.5 in /usr/local/lib64/python3.7/site-packages (from pandas==1.2.5)\n",
      "Requirement already satisfied: pytz>=2017.3 in /usr/local/lib/python3.7/site-packages (from pandas==1.2.5)\n",
      "Collecting python-dateutil>=2.7.3 (from pandas==1.2.5)\n",
      "  Downloading https://files.pythonhosted.org/packages/36/7a/87837f39d0296e723bb9b62bbb257d0355c7f6128853c78955f57342a56d/python_dateutil-2.8.2-py2.py3-none-any.whl (247kB)\n",
      "Requirement already satisfied: six>=1.5 in /usr/local/lib/python3.7/site-packages (from python-dateutil>=2.7.3->pandas==1.2.5)\n",
      "Installing collected packages: python-dateutil, pandas\n",
      "Successfully installed pandas-1.2.5 python-dateutil-2.8.2\n",
      "\n",
      "Collecting pyarrow==2\n",
      "  Downloading https://files.pythonhosted.org/packages/c8/58/d07e7ee8b0cffe509f9e5a3742e09636a4a58b2113d193166615b934846f/pyarrow-2.0.0-cp37-cp37m-manylinux1_x86_64.whl (16.9MB)\n",
      "Requirement already satisfied: numpy>=1.14 in /usr/local/lib64/python3.7/site-packages (from pyarrow==2)\n",
      "Installing collected packages: pyarrow\n",
      "Successfully installed pyarrow-2.0.0"
     ]
    }
   ],
   "source": [
    "sc.install_pypi_package('pandas==1.2.5')\n",
    "\n",
    "# sc.install_pypi_package('pillow')\n",
    "\n",
    "sc.install_pypi_package('pyarrow==2')"
   ]
  },
  {
   "cell_type": "markdown",
   "id": "0c4727e0",
   "metadata": {},
   "source": [
    "# Imports"
   ]
  },
  {
   "cell_type": "code",
   "execution_count": 3,
   "id": "f5928349",
   "metadata": {},
   "outputs": [
    {
     "data": {
      "application/vnd.jupyter.widget-view+json": {
       "model_id": "1195f91396aa402cbf50cecabbb641a3",
       "version_major": 2,
       "version_minor": 0
      },
      "text/plain": [
       "VBox()"
      ]
     },
     "metadata": {},
     "output_type": "display_data"
    },
    {
     "data": {
      "application/vnd.jupyter.widget-view+json": {
       "model_id": "",
       "version_major": 2,
       "version_minor": 0
      },
      "text/plain": [
       "FloatProgress(value=0.0, bar_style='info', description='Progress:', layout=Layout(height='25px', width='50%'),…"
      ]
     },
     "metadata": {},
     "output_type": "display_data"
    }
   ],
   "source": [
    "import pandas as pd\n",
    "\n",
    "import numpy as np\n",
    "\n",
    "from pyspark.sql import SparkSession\n",
    "\n",
    "from pyspark.sql.functions import  udf, col\n",
    "\n",
    "from pyspark.sql.types import FloatType\n",
    "\n",
    "from pyspark.ml.linalg import  VectorUDT, Vectors\n",
    "\n",
    "from pyspark.ml.feature import StringIndexer, IndexToString\n",
    "\n",
    "from pyspark.ml import Pipeline\n",
    "\n",
    "from pyspark.ml.classification import LogisticRegression\n",
    "\n",
    "from pyspark.mllib.evaluation import MulticlassMetrics\n",
    "\n",
    "from pyspark.ml.evaluation import MulticlassClassificationEvaluator\n",
    "\n",
    "from pyspark.ml.tuning import ParamGridBuilder, CrossValidator"
   ]
  },
  {
   "cell_type": "code",
   "execution_count": 4,
   "id": "49922675",
   "metadata": {},
   "outputs": [
    {
     "data": {
      "application/vnd.jupyter.widget-view+json": {
       "model_id": "2c1a9fd43a9648809a2629412ad2db25",
       "version_major": 2,
       "version_minor": 0
      },
      "text/plain": [
       "VBox()"
      ]
     },
     "metadata": {},
     "output_type": "display_data"
    },
    {
     "data": {
      "application/vnd.jupyter.widget-view+json": {
       "model_id": "",
       "version_major": 2,
       "version_minor": 0
      },
      "text/plain": [
       "FloatProgress(value=0.0, bar_style='info', description='Progress:', layout=Layout(height='25px', width='50%'),…"
      ]
     },
     "metadata": {},
     "output_type": "display_data"
    }
   ],
   "source": [
    "# Constants\n",
    "\n",
    "TRAIN_PATH = 's3a://fruits-images-proceded/Training_featured-reducted.parquet'\n",
    "\n",
    "TEST_PATH = 's3a://fruits-images-proceded/Test_featured-reducted.parquet'"
   ]
  },
  {
   "cell_type": "markdown",
   "id": "ba73834d",
   "metadata": {},
   "source": [
    "# Enable pyArrow"
   ]
  },
  {
   "cell_type": "code",
   "execution_count": 5,
   "id": "9c4182d4",
   "metadata": {},
   "outputs": [
    {
     "data": {
      "application/vnd.jupyter.widget-view+json": {
       "model_id": "5565d25a67464f048f2c9a87f969c72b",
       "version_major": 2,
       "version_minor": 0
      },
      "text/plain": [
       "VBox()"
      ]
     },
     "metadata": {},
     "output_type": "display_data"
    },
    {
     "data": {
      "application/vnd.jupyter.widget-view+json": {
       "model_id": "",
       "version_major": 2,
       "version_minor": 0
      },
      "text/plain": [
       "FloatProgress(value=0.0, bar_style='info', description='Progress:', layout=Layout(height='25px', width='50%'),…"
      ]
     },
     "metadata": {},
     "output_type": "display_data"
    }
   ],
   "source": [
    "spark.conf.set('spark.sql.execution.arrow.pyspark.enabled', 'true')"
   ]
  },
  {
   "cell_type": "markdown",
   "id": "ce750aa0",
   "metadata": {},
   "source": [
    "# Load images from storage"
   ]
  },
  {
   "cell_type": "code",
   "execution_count": 6,
   "id": "0c0f4775",
   "metadata": {},
   "outputs": [
    {
     "data": {
      "application/vnd.jupyter.widget-view+json": {
       "model_id": "3374f88f671f4bff89590f83cd1ff77b",
       "version_major": 2,
       "version_minor": 0
      },
      "text/plain": [
       "VBox()"
      ]
     },
     "metadata": {},
     "output_type": "display_data"
    },
    {
     "data": {
      "application/vnd.jupyter.widget-view+json": {
       "model_id": "",
       "version_major": 2,
       "version_minor": 0
      },
      "text/plain": [
       "FloatProgress(value=0.0, bar_style='info', description='Progress:', layout=Layout(height='25px', width='50%'),…"
      ]
     },
     "metadata": {},
     "output_type": "display_data"
    },
    {
     "name": "stdout",
     "output_type": "stream",
     "text": [
      "root\n",
      " |-- path: string (nullable = true)\n",
      " |-- feat_array: array (nullable = true)\n",
      " |    |-- element: double (containsNull = true)\n",
      " |-- label: string (nullable = true)"
     ]
    }
   ],
   "source": [
    "train =(spark\n",
    "         .read\n",
    "         .format('parquet')\n",
    "         .load(TRAIN_PATH)\n",
    "        )\n",
    "\n",
    "train.printSchema()"
   ]
  },
  {
   "cell_type": "code",
   "execution_count": 7,
   "id": "b4c6d0dd",
   "metadata": {},
   "outputs": [
    {
     "data": {
      "application/vnd.jupyter.widget-view+json": {
       "model_id": "1368c288044a44349cd3aee8f967d0b3",
       "version_major": 2,
       "version_minor": 0
      },
      "text/plain": [
       "VBox()"
      ]
     },
     "metadata": {},
     "output_type": "display_data"
    },
    {
     "data": {
      "application/vnd.jupyter.widget-view+json": {
       "model_id": "",
       "version_major": 2,
       "version_minor": 0
      },
      "text/plain": [
       "FloatProgress(value=0.0, bar_style='info', description='Progress:', layout=Layout(height='25px', width='50%'),…"
      ]
     },
     "metadata": {},
     "output_type": "display_data"
    },
    {
     "name": "stdout",
     "output_type": "stream",
     "text": [
      "67692"
     ]
    }
   ],
   "source": [
    "# Count\n",
    "train.count()"
   ]
  },
  {
   "cell_type": "code",
   "execution_count": 8,
   "id": "01c0b7be",
   "metadata": {
    "scrolled": false
   },
   "outputs": [
    {
     "data": {
      "application/vnd.jupyter.widget-view+json": {
       "model_id": "cfa48d8a798848f6b60d959b25c8803e",
       "version_major": 2,
       "version_minor": 0
      },
      "text/plain": [
       "VBox()"
      ]
     },
     "metadata": {},
     "output_type": "display_data"
    },
    {
     "data": {
      "application/vnd.jupyter.widget-view+json": {
       "model_id": "",
       "version_major": 2,
       "version_minor": 0
      },
      "text/plain": [
       "FloatProgress(value=0.0, bar_style='info', description='Progress:', layout=Layout(height='25px', width='50%'),…"
      ]
     },
     "metadata": {},
     "output_type": "display_data"
    },
    {
     "name": "stdout",
     "output_type": "stream",
     "text": [
      "+-----------------+-----+\n",
      "|            label|count|\n",
      "+-----------------+-----+\n",
      "|           Orange|  479|\n",
      "|     Cantaloupe 1|  492|\n",
      "|     Pear Forelle|  702|\n",
      "|       Clementine|  490|\n",
      "|              Fig|  702|\n",
      "|         Beetroot|  450|\n",
      "| Strawberry Wedge|  738|\n",
      "|    Pepper Orange|  702|\n",
      "|      Onion White|  438|\n",
      "|Tomato Cherry Red|  492|\n",
      "|  Grapefruit Pink|  490|\n",
      "|    Grape White 4|  471|\n",
      "|     Potato White|  450|\n",
      "|      Cauliflower|  702|\n",
      "|       Grape Blue|  984|\n",
      "|       Nut Forest|  654|\n",
      "|    Passion Fruit|  490|\n",
      "|     Cantaloupe 2|  492|\n",
      "|        Blueberry|  462|\n",
      "|    Grape White 3|  492|\n",
      "+-----------------+-----+\n",
      "only showing top 20 rows"
     ]
    }
   ],
   "source": [
    "# By label count\n",
    "train.groupBy('label').count().show()"
   ]
  },
  {
   "cell_type": "markdown",
   "id": "d1591a20",
   "metadata": {},
   "source": [
    "# Logistic regression"
   ]
  },
  {
   "cell_type": "code",
   "execution_count": 9,
   "id": "6cdcc6d4",
   "metadata": {},
   "outputs": [
    {
     "data": {
      "application/vnd.jupyter.widget-view+json": {
       "model_id": "b91a8d75128e4857bef52ba98941fe17",
       "version_major": 2,
       "version_minor": 0
      },
      "text/plain": [
       "VBox()"
      ]
     },
     "metadata": {},
     "output_type": "display_data"
    },
    {
     "data": {
      "application/vnd.jupyter.widget-view+json": {
       "model_id": "",
       "version_major": 2,
       "version_minor": 0
      },
      "text/plain": [
       "FloatProgress(value=0.0, bar_style='info', description='Progress:', layout=Layout(height='25px', width='50%'),…"
      ]
     },
     "metadata": {},
     "output_type": "display_data"
    },
    {
     "name": "stdout",
     "output_type": "stream",
     "text": [
      "root\n",
      " |-- path: string (nullable = true)\n",
      " |-- feat_array: array (nullable = true)\n",
      " |    |-- element: double (containsNull = true)\n",
      " |-- label: string (nullable = true)\n",
      " |-- Vect_features: vector (nullable = true)"
     ]
    }
   ],
   "source": [
    "# UDF array -> vector\n",
    "list_to_vector_udf = udf(lambda vs: Vectors.dense([float(i) for i in vs]),\n",
    "                         VectorUDT())\n",
    "# Create new column with vectors\n",
    "train = train.withColumn('Vect_features', list_to_vector_udf(train.feat_array))\n",
    "train.printSchema()"
   ]
  },
  {
   "cell_type": "markdown",
   "id": "221b34d5",
   "metadata": {},
   "source": [
    "## Modelisation pipeline"
   ]
  },
  {
   "cell_type": "code",
   "execution_count": 10,
   "id": "ba90890c",
   "metadata": {},
   "outputs": [
    {
     "data": {
      "application/vnd.jupyter.widget-view+json": {
       "model_id": "3ed3b390870a4ff4a3d71c93f4301589",
       "version_major": 2,
       "version_minor": 0
      },
      "text/plain": [
       "VBox()"
      ]
     },
     "metadata": {},
     "output_type": "display_data"
    },
    {
     "data": {
      "application/vnd.jupyter.widget-view+json": {
       "model_id": "",
       "version_major": 2,
       "version_minor": 0
      },
      "text/plain": [
       "FloatProgress(value=0.0, bar_style='info', description='Progress:', layout=Layout(height='25px', width='50%'),…"
      ]
     },
     "metadata": {},
     "output_type": "display_data"
    }
   ],
   "source": [
    "steps = []\n",
    "\n",
    "# from pyspark.ml.feature import StringIndexer, IndexToString\n",
    "# Encode labels\n",
    "label_stringIdx = StringIndexer(inputCol = 'label', outputCol = 'class')\n",
    "\n",
    "steps += [label_stringIdx]\n",
    "\n",
    "# from pyspark.ml.classification import LogisticRegression\n",
    "# Logistic regression\n",
    "lr = LogisticRegression(featuresCol='Vect_features',\n",
    "                        labelCol='class',\n",
    "                        )\n",
    "\n",
    "steps += [lr]\n",
    "\n",
    "# from pyspark.ml import Pipeline\n",
    "# All steps in pipeline\n",
    "pipeline = Pipeline(stages = steps)"
   ]
  },
  {
   "cell_type": "markdown",
   "id": "8a637244",
   "metadata": {},
   "source": [
    "## Trainning"
   ]
  },
  {
   "cell_type": "code",
   "execution_count": 11,
   "id": "20e8aaef",
   "metadata": {},
   "outputs": [
    {
     "data": {
      "application/vnd.jupyter.widget-view+json": {
       "model_id": "d939dbcff804446bb0f347e3e935c54c",
       "version_major": 2,
       "version_minor": 0
      },
      "text/plain": [
       "VBox()"
      ]
     },
     "metadata": {},
     "output_type": "display_data"
    },
    {
     "data": {
      "application/vnd.jupyter.widget-view+json": {
       "model_id": "",
       "version_major": 2,
       "version_minor": 0
      },
      "text/plain": [
       "FloatProgress(value=0.0, bar_style='info', description='Progress:', layout=Layout(height='25px', width='50%'),…"
      ]
     },
     "metadata": {},
     "output_type": "display_data"
    }
   ],
   "source": [
    "# Fit the pipeline on train\n",
    "lrPipe = pipeline.fit(train)"
   ]
  },
  {
   "cell_type": "code",
   "execution_count": 12,
   "id": "b242f0e7",
   "metadata": {},
   "outputs": [
    {
     "data": {
      "application/vnd.jupyter.widget-view+json": {
       "model_id": "1d82ee20d59d4f6c935cedb47bd616d0",
       "version_major": 2,
       "version_minor": 0
      },
      "text/plain": [
       "VBox()"
      ]
     },
     "metadata": {},
     "output_type": "display_data"
    },
    {
     "data": {
      "application/vnd.jupyter.widget-view+json": {
       "model_id": "",
       "version_major": 2,
       "version_minor": 0
      },
      "text/plain": [
       "FloatProgress(value=0.0, bar_style='info', description='Progress:', layout=Layout(height='25px', width='50%'),…"
      ]
     },
     "metadata": {},
     "output_type": "display_data"
    },
    {
     "name": "stdout",
     "output_type": "stream",
     "text": [
      "Coefficients: \n",
      "DenseMatrix([[ 2.37075953e-02,  7.34178832e-03,  1.57384011e-02, ...,\n",
      "              -1.41565478e-01, -8.72841168e-03,  1.11659890e-01],\n",
      "             [ 1.75950736e-02,  1.73825319e-03, -8.07781900e-04, ...,\n",
      "              -9.56816848e-02, -8.93335285e-02,  6.85835942e-02],\n",
      "             [ 3.54862328e-02, -1.21826948e-02,  2.36510760e-02, ...,\n",
      "              -2.37726157e-01,  1.37638128e-01,  6.61403368e-01],\n",
      "             ...,\n",
      "             [-2.36559540e-03,  3.94458288e-03,  4.48131930e-03, ...,\n",
      "              -1.06266760e-01,  3.57937632e-02,  6.27939960e-02],\n",
      "             [-5.88971092e-03,  2.25750883e-03, -1.73746849e-02, ...,\n",
      "               1.67257937e-02,  5.82905597e-02, -1.17605250e-01],\n",
      "             [-2.24923836e-02,  1.53140735e-02, -4.50896993e-04, ...,\n",
      "               7.49961420e-02, -2.01823739e-02,  8.68365159e-03]])\n",
      "Intercept: [0.6553418474169954,0.5615526746005938,0.3105000737886927,0.3518837899468423,0.37186790600271097,0.3763460384299922,0.3629007239904011,0.3617950231145313,0.35799972675146785,0.35959049693686757,0.32843847724757536,0.3038020832815482,0.3195681086667026,0.32361145534679897,0.3145380380851644,0.3297314894255347,0.2974904724697013,0.2904623367295745,0.28221865992862194,0.2790427513444531,0.2757256708567487,0.2755123769433261,0.26237809338297446,0.05698966321390053,-0.04143301453413358,-0.053475161965325556,-0.0246269915148994,-0.02711155501377924,-0.017501104105774722,-0.03159849804100272,-0.009864376096703004,-0.0275428978508386,-0.04146987629933418,-0.034850179887686336,-0.022397441353098627,-0.02979152162084212,-0.03383462768338094,-0.027978547639539202,-0.022110496263925215,-0.031180031634208884,-0.03552320733122923,-0.02183194187653501,-0.04611632262697635,-0.04156620922072541,-0.015107232592125347,-0.023098746303890652,-0.015407025401840234,-0.019326698913552084,-0.026496468388801157,-0.036050552043329055,-0.030698741454408016,-0.04430157196824805,-0.030777224835539754,-0.03357203102527005,-0.02517760378266974,-0.04384869857564151,-0.025671024199544597,-0.03916395211561772,-0.038301095860895217,-0.03463522360876368,-0.03770766566733894,-0.02616099447894046,-0.03884120194041778,-0.04126661645009897,-0.0221199199559679,-0.027389145383803156,-0.044765048163914044,-0.0316860921063031,-0.03429641347029531,-0.04988037737703662,-0.01997613789291446,-0.018428535987703255,-0.018311996487626603,-0.03209181275930137,-0.05127108572287419,-0.024013395689946246,-0.025464667858534296,-0.027703149740122713,-0.03299776006915387,-0.039629592677848074,-0.025119081134443808,-0.024438727494196625,-0.04054054089211893,-0.04835321549207805,-0.04243063422783912,-0.031502568258416803,-0.05093236583252243,-0.03939203962042891,-0.025361665431256522,-0.030993359864849357,-0.06313000829224726,-0.05154490545279212,-0.04086313002916484,-0.06534105472740506,-0.054029241814054677,-0.07617563224511947,-0.06626250607246097,-0.06856639484304382,-0.08565381866791455,-0.06615273089585551,-0.08146527019259256,-0.08743432507692965,-0.09010476099522238,-0.09858564468940655,-0.10656787400341325,-0.09340229364904074,-0.0940705955407863,-0.09277376977180843,-0.12095480435472454,-0.11355031038220455,-0.10407745202840107,-0.1353238917920207,-0.1110298531669153,-0.10816656347213104,-0.11165638897648517,-0.10608785688822432,-0.11342792196912774,-0.11757422899915405,-0.13337492209587817,-0.14949970462796966,-0.1434479317304854,-0.13563129371581895,-0.15243189609946686,-0.17159328531787096,-0.17079972497284404,-0.17356813461635748,-0.26366093841311355,-0.3177815544913672,-0.5146578786907882,-0.5207365990969053,-0.5316271832858424]"
     ]
    }
   ],
   "source": [
    "# Print the coefficients and intercept for multinomial logistic regression\n",
    "print('Coefficients: \\n' + str(lrPipe.stages[-1].coefficientMatrix))\n",
    "print('Intercept: ' + str(lrPipe.stages[-1].interceptVector))"
   ]
  },
  {
   "cell_type": "markdown",
   "id": "e47d62ba",
   "metadata": {},
   "source": [
    "## Training summary"
   ]
  },
  {
   "cell_type": "code",
   "execution_count": 13,
   "id": "cc597b0f",
   "metadata": {},
   "outputs": [
    {
     "data": {
      "application/vnd.jupyter.widget-view+json": {
       "model_id": "97202fdc33964d74afac382594aecdbc",
       "version_major": 2,
       "version_minor": 0
      },
      "text/plain": [
       "VBox()"
      ]
     },
     "metadata": {},
     "output_type": "display_data"
    },
    {
     "data": {
      "application/vnd.jupyter.widget-view+json": {
       "model_id": "",
       "version_major": 2,
       "version_minor": 0
      },
      "text/plain": [
       "FloatProgress(value=0.0, bar_style='info', description='Progress:', layout=Layout(height='25px', width='50%'),…"
      ]
     },
     "metadata": {},
     "output_type": "display_data"
    }
   ],
   "source": [
    "trainingSummary = lrPipe.stages[-1].summary"
   ]
  },
  {
   "cell_type": "code",
   "execution_count": 14,
   "id": "46c0f25e",
   "metadata": {},
   "outputs": [
    {
     "data": {
      "application/vnd.jupyter.widget-view+json": {
       "model_id": "18d582459b724ab79b63a85acb8b66a8",
       "version_major": 2,
       "version_minor": 0
      },
      "text/plain": [
       "VBox()"
      ]
     },
     "metadata": {},
     "output_type": "display_data"
    },
    {
     "data": {
      "application/vnd.jupyter.widget-view+json": {
       "model_id": "",
       "version_major": 2,
       "version_minor": 0
      },
      "text/plain": [
       "FloatProgress(value=0.0, bar_style='info', description='Progress:', layout=Layout(height='25px', width='50%'),…"
      ]
     },
     "metadata": {},
     "output_type": "display_data"
    },
    {
     "name": "stdout",
     "output_type": "stream",
     "text": [
      "objectiveHistory:\n",
      "4.855559138168317\n",
      "1.9474869828383614\n",
      "0.005001597870903989\n",
      "0.0003326160400632317\n",
      "0.0002571536051853591\n",
      "0.000142931015945058\n",
      "9.1736651740788e-05\n",
      "5.537598699688579e-05\n",
      "3.35075385559252e-05\n",
      "2.0083079032775134e-05\n",
      "1.2234786965994183e-05\n",
      "7.567504046748844e-06\n",
      "4.737957613271799e-06\n",
      "2.9208863021715567e-06\n",
      "1.6970897308023605e-06\n",
      "9.718018866239258e-07\n",
      "5.619177918211658e-07\n",
      "3.024420168721413e-07\n",
      "1.584405770507747e-07\n",
      "7.433022136234104e-08\n",
      "3.840740303082677e-08\n",
      "1.8815143482008578e-08\n",
      "9.582553930929622e-09"
     ]
    }
   ],
   "source": [
    "# Obtain the objective per iteration\n",
    "objectiveHistory = trainingSummary.objectiveHistory\n",
    "print('objectiveHistory:')\n",
    "for objective in objectiveHistory:\n",
    "    print(objective)"
   ]
  },
  {
   "cell_type": "markdown",
   "id": "87cbbf7a",
   "metadata": {},
   "source": [
    "## Metrics per label"
   ]
  },
  {
   "cell_type": "code",
   "execution_count": 15,
   "id": "ed4cc33d",
   "metadata": {
    "scrolled": true
   },
   "outputs": [
    {
     "data": {
      "application/vnd.jupyter.widget-view+json": {
       "model_id": "70da9f2489534e52b64415f80b393d38",
       "version_major": 2,
       "version_minor": 0
      },
      "text/plain": [
       "VBox()"
      ]
     },
     "metadata": {},
     "output_type": "display_data"
    },
    {
     "data": {
      "application/vnd.jupyter.widget-view+json": {
       "model_id": "",
       "version_major": 2,
       "version_minor": 0
      },
      "text/plain": [
       "FloatProgress(value=0.0, bar_style='info', description='Progress:', layout=Layout(height='25px', width='50%'),…"
      ]
     },
     "metadata": {},
     "output_type": "display_data"
    },
    {
     "name": "stdout",
     "output_type": "stream",
     "text": [
      "Precision by label:\n",
      "label 0: 1.0\n",
      "label 1: 1.0\n",
      "label 2: 1.0\n",
      "label 3: 1.0\n",
      "label 4: 1.0\n",
      "label 5: 1.0\n",
      "label 6: 1.0\n",
      "label 7: 1.0\n",
      "label 8: 1.0\n",
      "label 9: 1.0\n",
      "label 10: 1.0\n",
      "label 11: 1.0\n",
      "label 12: 1.0\n",
      "label 13: 1.0\n",
      "label 14: 1.0\n",
      "label 15: 1.0\n",
      "label 16: 1.0\n",
      "label 17: 1.0\n",
      "label 18: 1.0\n",
      "label 19: 1.0\n",
      "label 20: 1.0\n",
      "label 21: 1.0\n",
      "label 22: 1.0\n",
      "label 23: 1.0\n",
      "label 24: 1.0\n",
      "label 25: 1.0\n",
      "label 26: 1.0\n",
      "label 27: 1.0\n",
      "label 28: 1.0\n",
      "label 29: 1.0\n",
      "label 30: 1.0\n",
      "label 31: 1.0\n",
      "label 32: 1.0\n",
      "label 33: 1.0\n",
      "label 34: 1.0\n",
      "label 35: 1.0\n",
      "label 36: 1.0\n",
      "label 37: 1.0\n",
      "label 38: 1.0\n",
      "label 39: 1.0\n",
      "label 40: 1.0\n",
      "label 41: 1.0\n",
      "label 42: 1.0\n",
      "label 43: 1.0\n",
      "label 44: 1.0\n",
      "label 45: 1.0\n",
      "label 46: 1.0\n",
      "label 47: 1.0\n",
      "label 48: 1.0\n",
      "label 49: 1.0\n",
      "label 50: 1.0\n",
      "label 51: 1.0\n",
      "label 52: 1.0\n",
      "label 53: 1.0\n",
      "label 54: 1.0\n",
      "label 55: 1.0\n",
      "label 56: 1.0\n",
      "label 57: 1.0\n",
      "label 58: 1.0\n",
      "label 59: 1.0\n",
      "label 60: 1.0\n",
      "label 61: 1.0\n",
      "label 62: 1.0\n",
      "label 63: 1.0\n",
      "label 64: 1.0\n",
      "label 65: 1.0\n",
      "label 66: 1.0\n",
      "label 67: 1.0\n",
      "label 68: 1.0\n",
      "label 69: 1.0\n",
      "label 70: 1.0\n",
      "label 71: 1.0\n",
      "label 72: 1.0\n",
      "label 73: 1.0\n",
      "label 74: 1.0\n",
      "label 75: 1.0\n",
      "label 76: 1.0\n",
      "label 77: 1.0\n",
      "label 78: 1.0\n",
      "label 79: 1.0\n",
      "label 80: 1.0\n",
      "label 81: 1.0\n",
      "label 82: 1.0\n",
      "label 83: 1.0\n",
      "label 84: 1.0\n",
      "label 85: 1.0\n",
      "label 86: 1.0\n",
      "label 87: 1.0\n",
      "label 88: 1.0\n",
      "label 89: 1.0\n",
      "label 90: 1.0\n",
      "label 91: 1.0\n",
      "label 92: 1.0\n",
      "label 93: 1.0\n",
      "label 94: 1.0\n",
      "label 95: 1.0\n",
      "label 96: 1.0\n",
      "label 97: 1.0\n",
      "label 98: 1.0\n",
      "label 99: 1.0\n",
      "label 100: 1.0\n",
      "label 101: 1.0\n",
      "label 102: 1.0\n",
      "label 103: 1.0\n",
      "label 104: 1.0\n",
      "label 105: 1.0\n",
      "label 106: 1.0\n",
      "label 107: 1.0\n",
      "label 108: 1.0\n",
      "label 109: 1.0\n",
      "label 110: 1.0\n",
      "label 111: 1.0\n",
      "label 112: 1.0\n",
      "label 113: 1.0\n",
      "label 114: 1.0\n",
      "label 115: 1.0\n",
      "label 116: 1.0\n",
      "label 117: 1.0\n",
      "label 118: 1.0\n",
      "label 119: 1.0\n",
      "label 120: 1.0\n",
      "label 121: 1.0\n",
      "label 122: 1.0\n",
      "label 123: 1.0\n",
      "label 124: 1.0\n",
      "label 125: 1.0\n",
      "label 126: 1.0\n",
      "label 127: 1.0\n",
      "label 128: 1.0\n",
      "label 129: 1.0\n",
      "label 130: 1.0"
     ]
    }
   ],
   "source": [
    "print('Precision by label:')\n",
    "for i, prec in enumerate(trainingSummary.precisionByLabel):\n",
    "    print('label %d: %s' % (i, prec))"
   ]
  },
  {
   "cell_type": "code",
   "execution_count": 16,
   "id": "a508d674",
   "metadata": {},
   "outputs": [
    {
     "data": {
      "application/vnd.jupyter.widget-view+json": {
       "model_id": "f62e11f055004305810634ddd78d2d5e",
       "version_major": 2,
       "version_minor": 0
      },
      "text/plain": [
       "VBox()"
      ]
     },
     "metadata": {},
     "output_type": "display_data"
    },
    {
     "data": {
      "application/vnd.jupyter.widget-view+json": {
       "model_id": "",
       "version_major": 2,
       "version_minor": 0
      },
      "text/plain": [
       "FloatProgress(value=0.0, bar_style='info', description='Progress:', layout=Layout(height='25px', width='50%'),…"
      ]
     },
     "metadata": {},
     "output_type": "display_data"
    },
    {
     "name": "stdout",
     "output_type": "stream",
     "text": [
      "Recall by label:\n",
      "label 0: 1.0\n",
      "label 1: 1.0\n",
      "label 2: 1.0\n",
      "label 3: 1.0\n",
      "label 4: 1.0\n",
      "label 5: 1.0\n",
      "label 6: 1.0\n",
      "label 7: 1.0\n",
      "label 8: 1.0\n",
      "label 9: 1.0\n",
      "label 10: 1.0\n",
      "label 11: 1.0\n",
      "label 12: 1.0\n",
      "label 13: 1.0\n",
      "label 14: 1.0\n",
      "label 15: 1.0\n",
      "label 16: 1.0\n",
      "label 17: 1.0\n",
      "label 18: 1.0\n",
      "label 19: 1.0\n",
      "label 20: 1.0\n",
      "label 21: 1.0\n",
      "label 22: 1.0\n",
      "label 23: 1.0\n",
      "label 24: 1.0\n",
      "label 25: 1.0\n",
      "label 26: 1.0\n",
      "label 27: 1.0\n",
      "label 28: 1.0\n",
      "label 29: 1.0\n",
      "label 30: 1.0\n",
      "label 31: 1.0\n",
      "label 32: 1.0\n",
      "label 33: 1.0\n",
      "label 34: 1.0\n",
      "label 35: 1.0\n",
      "label 36: 1.0\n",
      "label 37: 1.0\n",
      "label 38: 1.0\n",
      "label 39: 1.0\n",
      "label 40: 1.0\n",
      "label 41: 1.0\n",
      "label 42: 1.0\n",
      "label 43: 1.0\n",
      "label 44: 1.0\n",
      "label 45: 1.0\n",
      "label 46: 1.0\n",
      "label 47: 1.0\n",
      "label 48: 1.0\n",
      "label 49: 1.0\n",
      "label 50: 1.0\n",
      "label 51: 1.0\n",
      "label 52: 1.0\n",
      "label 53: 1.0\n",
      "label 54: 1.0\n",
      "label 55: 1.0\n",
      "label 56: 1.0\n",
      "label 57: 1.0\n",
      "label 58: 1.0\n",
      "label 59: 1.0\n",
      "label 60: 1.0\n",
      "label 61: 1.0\n",
      "label 62: 1.0\n",
      "label 63: 1.0\n",
      "label 64: 1.0\n",
      "label 65: 1.0\n",
      "label 66: 1.0\n",
      "label 67: 1.0\n",
      "label 68: 1.0\n",
      "label 69: 1.0\n",
      "label 70: 1.0\n",
      "label 71: 1.0\n",
      "label 72: 1.0\n",
      "label 73: 1.0\n",
      "label 74: 1.0\n",
      "label 75: 1.0\n",
      "label 76: 1.0\n",
      "label 77: 1.0\n",
      "label 78: 1.0\n",
      "label 79: 1.0\n",
      "label 80: 1.0\n",
      "label 81: 1.0\n",
      "label 82: 1.0\n",
      "label 83: 1.0\n",
      "label 84: 1.0\n",
      "label 85: 1.0\n",
      "label 86: 1.0\n",
      "label 87: 1.0\n",
      "label 88: 1.0\n",
      "label 89: 1.0\n",
      "label 90: 1.0\n",
      "label 91: 1.0\n",
      "label 92: 1.0\n",
      "label 93: 1.0\n",
      "label 94: 1.0\n",
      "label 95: 1.0\n",
      "label 96: 1.0\n",
      "label 97: 1.0\n",
      "label 98: 1.0\n",
      "label 99: 1.0\n",
      "label 100: 1.0\n",
      "label 101: 1.0\n",
      "label 102: 1.0\n",
      "label 103: 1.0\n",
      "label 104: 1.0\n",
      "label 105: 1.0\n",
      "label 106: 1.0\n",
      "label 107: 1.0\n",
      "label 108: 1.0\n",
      "label 109: 1.0\n",
      "label 110: 1.0\n",
      "label 111: 1.0\n",
      "label 112: 1.0\n",
      "label 113: 1.0\n",
      "label 114: 1.0\n",
      "label 115: 1.0\n",
      "label 116: 1.0\n",
      "label 117: 1.0\n",
      "label 118: 1.0\n",
      "label 119: 1.0\n",
      "label 120: 1.0\n",
      "label 121: 1.0\n",
      "label 122: 1.0\n",
      "label 123: 1.0\n",
      "label 124: 1.0\n",
      "label 125: 1.0\n",
      "label 126: 1.0\n",
      "label 127: 1.0\n",
      "label 128: 1.0\n",
      "label 129: 1.0\n",
      "label 130: 1.0"
     ]
    }
   ],
   "source": [
    "print('Recall by label:')\n",
    "for i, rec in enumerate(trainingSummary.recallByLabel):\n",
    "    print('label %d: %s' % (i, rec))"
   ]
  },
  {
   "cell_type": "code",
   "execution_count": 17,
   "id": "607e4ade",
   "metadata": {},
   "outputs": [
    {
     "data": {
      "application/vnd.jupyter.widget-view+json": {
       "model_id": "1f5ae4fe27e14ff6b8fc889ba7a67be7",
       "version_major": 2,
       "version_minor": 0
      },
      "text/plain": [
       "VBox()"
      ]
     },
     "metadata": {},
     "output_type": "display_data"
    },
    {
     "data": {
      "application/vnd.jupyter.widget-view+json": {
       "model_id": "",
       "version_major": 2,
       "version_minor": 0
      },
      "text/plain": [
       "FloatProgress(value=0.0, bar_style='info', description='Progress:', layout=Layout(height='25px', width='50%'),…"
      ]
     },
     "metadata": {},
     "output_type": "display_data"
    },
    {
     "name": "stdout",
     "output_type": "stream",
     "text": [
      "F-measure by label:\n",
      "label 0: 1.0\n",
      "label 1: 1.0\n",
      "label 2: 1.0\n",
      "label 3: 1.0\n",
      "label 4: 1.0\n",
      "label 5: 1.0\n",
      "label 6: 1.0\n",
      "label 7: 1.0\n",
      "label 8: 1.0\n",
      "label 9: 1.0\n",
      "label 10: 1.0\n",
      "label 11: 1.0\n",
      "label 12: 1.0\n",
      "label 13: 1.0\n",
      "label 14: 1.0\n",
      "label 15: 1.0\n",
      "label 16: 1.0\n",
      "label 17: 1.0\n",
      "label 18: 1.0\n",
      "label 19: 1.0\n",
      "label 20: 1.0\n",
      "label 21: 1.0\n",
      "label 22: 1.0\n",
      "label 23: 1.0\n",
      "label 24: 1.0\n",
      "label 25: 1.0\n",
      "label 26: 1.0\n",
      "label 27: 1.0\n",
      "label 28: 1.0\n",
      "label 29: 1.0\n",
      "label 30: 1.0\n",
      "label 31: 1.0\n",
      "label 32: 1.0\n",
      "label 33: 1.0\n",
      "label 34: 1.0\n",
      "label 35: 1.0\n",
      "label 36: 1.0\n",
      "label 37: 1.0\n",
      "label 38: 1.0\n",
      "label 39: 1.0\n",
      "label 40: 1.0\n",
      "label 41: 1.0\n",
      "label 42: 1.0\n",
      "label 43: 1.0\n",
      "label 44: 1.0\n",
      "label 45: 1.0\n",
      "label 46: 1.0\n",
      "label 47: 1.0\n",
      "label 48: 1.0\n",
      "label 49: 1.0\n",
      "label 50: 1.0\n",
      "label 51: 1.0\n",
      "label 52: 1.0\n",
      "label 53: 1.0\n",
      "label 54: 1.0\n",
      "label 55: 1.0\n",
      "label 56: 1.0\n",
      "label 57: 1.0\n",
      "label 58: 1.0\n",
      "label 59: 1.0\n",
      "label 60: 1.0\n",
      "label 61: 1.0\n",
      "label 62: 1.0\n",
      "label 63: 1.0\n",
      "label 64: 1.0\n",
      "label 65: 1.0\n",
      "label 66: 1.0\n",
      "label 67: 1.0\n",
      "label 68: 1.0\n",
      "label 69: 1.0\n",
      "label 70: 1.0\n",
      "label 71: 1.0\n",
      "label 72: 1.0\n",
      "label 73: 1.0\n",
      "label 74: 1.0\n",
      "label 75: 1.0\n",
      "label 76: 1.0\n",
      "label 77: 1.0\n",
      "label 78: 1.0\n",
      "label 79: 1.0\n",
      "label 80: 1.0\n",
      "label 81: 1.0\n",
      "label 82: 1.0\n",
      "label 83: 1.0\n",
      "label 84: 1.0\n",
      "label 85: 1.0\n",
      "label 86: 1.0\n",
      "label 87: 1.0\n",
      "label 88: 1.0\n",
      "label 89: 1.0\n",
      "label 90: 1.0\n",
      "label 91: 1.0\n",
      "label 92: 1.0\n",
      "label 93: 1.0\n",
      "label 94: 1.0\n",
      "label 95: 1.0\n",
      "label 96: 1.0\n",
      "label 97: 1.0\n",
      "label 98: 1.0\n",
      "label 99: 1.0\n",
      "label 100: 1.0\n",
      "label 101: 1.0\n",
      "label 102: 1.0\n",
      "label 103: 1.0\n",
      "label 104: 1.0\n",
      "label 105: 1.0\n",
      "label 106: 1.0\n",
      "label 107: 1.0\n",
      "label 108: 1.0\n",
      "label 109: 1.0\n",
      "label 110: 1.0\n",
      "label 111: 1.0\n",
      "label 112: 1.0\n",
      "label 113: 1.0\n",
      "label 114: 1.0\n",
      "label 115: 1.0\n",
      "label 116: 1.0\n",
      "label 117: 1.0\n",
      "label 118: 1.0\n",
      "label 119: 1.0\n",
      "label 120: 1.0\n",
      "label 121: 1.0\n",
      "label 122: 1.0\n",
      "label 123: 1.0\n",
      "label 124: 1.0\n",
      "label 125: 1.0\n",
      "label 126: 1.0\n",
      "label 127: 1.0\n",
      "label 128: 1.0\n",
      "label 129: 1.0\n",
      "label 130: 1.0"
     ]
    }
   ],
   "source": [
    "print('F-measure by label:')\n",
    "for i, f in enumerate(trainingSummary.fMeasureByLabel()):\n",
    "    print('label %d: %s' % (i, f))"
   ]
  },
  {
   "cell_type": "code",
   "execution_count": 18,
   "id": "c15dcb24",
   "metadata": {
    "scrolled": false
   },
   "outputs": [
    {
     "data": {
      "application/vnd.jupyter.widget-view+json": {
       "model_id": "69efa8edb153466da3d38278298984d7",
       "version_major": 2,
       "version_minor": 0
      },
      "text/plain": [
       "VBox()"
      ]
     },
     "metadata": {},
     "output_type": "display_data"
    },
    {
     "data": {
      "application/vnd.jupyter.widget-view+json": {
       "model_id": "",
       "version_major": 2,
       "version_minor": 0
      },
      "text/plain": [
       "FloatProgress(value=0.0, bar_style='info', description='Progress:', layout=Layout(height='25px', width='50%'),…"
      ]
     },
     "metadata": {},
     "output_type": "display_data"
    },
    {
     "name": "stdout",
     "output_type": "stream",
     "text": [
      "Accuracy: 1.0\n",
      "F-measure: 1.0000000000000004\n",
      "Precision: 1.0000000000000004\n",
      "Recall: 1.0000000000000004"
     ]
    }
   ],
   "source": [
    "accuracy = trainingSummary.accuracy\n",
    "fMeasure = trainingSummary.weightedFMeasure()\n",
    "precision = trainingSummary.weightedPrecision\n",
    "recall = trainingSummary.weightedRecall\n",
    "print('Accuracy: %s\\nF-measure: %s\\nPrecision: %s\\nRecall: %s'\n",
    "      % (accuracy, fMeasure, precision, recall))"
   ]
  },
  {
   "cell_type": "markdown",
   "id": "9364fd6a",
   "metadata": {},
   "source": [
    "# Validation"
   ]
  },
  {
   "cell_type": "code",
   "execution_count": 19,
   "id": "bc528ca8",
   "metadata": {},
   "outputs": [
    {
     "data": {
      "application/vnd.jupyter.widget-view+json": {
       "model_id": "c00ce6d42d784658a6f625ee0837073b",
       "version_major": 2,
       "version_minor": 0
      },
      "text/plain": [
       "VBox()"
      ]
     },
     "metadata": {},
     "output_type": "display_data"
    },
    {
     "data": {
      "application/vnd.jupyter.widget-view+json": {
       "model_id": "",
       "version_major": 2,
       "version_minor": 0
      },
      "text/plain": [
       "FloatProgress(value=0.0, bar_style='info', description='Progress:', layout=Layout(height='25px', width='50%'),…"
      ]
     },
     "metadata": {},
     "output_type": "display_data"
    },
    {
     "name": "stdout",
     "output_type": "stream",
     "text": [
      "root\n",
      " |-- path: string (nullable = true)\n",
      " |-- feat_array: array (nullable = true)\n",
      " |    |-- element: double (containsNull = true)\n",
      " |-- label: string (nullable = true)"
     ]
    }
   ],
   "source": [
    "test =(spark\n",
    "         .read\n",
    "         .format('parquet')\n",
    "         .load(TEST_PATH)\n",
    "        )\n",
    "\n",
    "test.printSchema()"
   ]
  },
  {
   "cell_type": "code",
   "execution_count": 20,
   "id": "b0fe40bc",
   "metadata": {},
   "outputs": [
    {
     "data": {
      "application/vnd.jupyter.widget-view+json": {
       "model_id": "b616a8d5a6ff4eab89284659d9c3b424",
       "version_major": 2,
       "version_minor": 0
      },
      "text/plain": [
       "VBox()"
      ]
     },
     "metadata": {},
     "output_type": "display_data"
    },
    {
     "data": {
      "application/vnd.jupyter.widget-view+json": {
       "model_id": "",
       "version_major": 2,
       "version_minor": 0
      },
      "text/plain": [
       "FloatProgress(value=0.0, bar_style='info', description='Progress:', layout=Layout(height='25px', width='50%'),…"
      ]
     },
     "metadata": {},
     "output_type": "display_data"
    },
    {
     "name": "stdout",
     "output_type": "stream",
     "text": [
      "22688"
     ]
    }
   ],
   "source": [
    "# Count\n",
    "test.count()"
   ]
  },
  {
   "cell_type": "code",
   "execution_count": 21,
   "id": "d67bf48d",
   "metadata": {},
   "outputs": [
    {
     "data": {
      "application/vnd.jupyter.widget-view+json": {
       "model_id": "aefc68d5f3dd4992be4c3d8d756c0231",
       "version_major": 2,
       "version_minor": 0
      },
      "text/plain": [
       "VBox()"
      ]
     },
     "metadata": {},
     "output_type": "display_data"
    },
    {
     "data": {
      "application/vnd.jupyter.widget-view+json": {
       "model_id": "",
       "version_major": 2,
       "version_minor": 0
      },
      "text/plain": [
       "FloatProgress(value=0.0, bar_style='info', description='Progress:', layout=Layout(height='25px', width='50%'),…"
      ]
     },
     "metadata": {},
     "output_type": "display_data"
    },
    {
     "name": "stdout",
     "output_type": "stream",
     "text": [
      "+-----------------+-----+\n",
      "|            label|count|\n",
      "+-----------------+-----+\n",
      "|     Pear Forelle|  234|\n",
      "|     Cantaloupe 1|  164|\n",
      "|       Clementine|  166|\n",
      "|           Orange|  160|\n",
      "| Strawberry Wedge|  246|\n",
      "|      Onion White|  146|\n",
      "|    Pepper Orange|  234|\n",
      "|              Fig|  234|\n",
      "|  Grapefruit Pink|  166|\n",
      "|    Grape White 4|  158|\n",
      "|Tomato Cherry Red|  164|\n",
      "|     Potato White|  150|\n",
      "|         Beetroot|  150|\n",
      "+-----------------+-----+\n",
      "only showing top 13 rows"
     ]
    }
   ],
   "source": [
    "# By label count\n",
    "test.groupBy('label').count().show(13)"
   ]
  },
  {
   "cell_type": "code",
   "execution_count": 22,
   "id": "a4f306e4",
   "metadata": {},
   "outputs": [
    {
     "data": {
      "application/vnd.jupyter.widget-view+json": {
       "model_id": "38ebd5d72c774c639ab56bdfabbb0a71",
       "version_major": 2,
       "version_minor": 0
      },
      "text/plain": [
       "VBox()"
      ]
     },
     "metadata": {},
     "output_type": "display_data"
    },
    {
     "data": {
      "application/vnd.jupyter.widget-view+json": {
       "model_id": "",
       "version_major": 2,
       "version_minor": 0
      },
      "text/plain": [
       "FloatProgress(value=0.0, bar_style='info', description='Progress:', layout=Layout(height='25px', width='50%'),…"
      ]
     },
     "metadata": {},
     "output_type": "display_data"
    },
    {
     "name": "stdout",
     "output_type": "stream",
     "text": [
      "root\n",
      " |-- path: string (nullable = true)\n",
      " |-- feat_array: array (nullable = true)\n",
      " |    |-- element: double (containsNull = true)\n",
      " |-- label: string (nullable = true)\n",
      " |-- Vect_features: vector (nullable = true)"
     ]
    }
   ],
   "source": [
    "# Create new column with vectors\n",
    "test = test.withColumn('Vect_features', list_to_vector_udf(test.feat_array))\n",
    "test.printSchema()"
   ]
  },
  {
   "cell_type": "markdown",
   "id": "d62ce982",
   "metadata": {},
   "source": [
    "## Predictions"
   ]
  },
  {
   "cell_type": "code",
   "execution_count": 23,
   "id": "d535c451",
   "metadata": {},
   "outputs": [
    {
     "data": {
      "application/vnd.jupyter.widget-view+json": {
       "model_id": "13c9e2bbc0e746a6b1bdc884b5ec47e3",
       "version_major": 2,
       "version_minor": 0
      },
      "text/plain": [
       "VBox()"
      ]
     },
     "metadata": {},
     "output_type": "display_data"
    },
    {
     "data": {
      "application/vnd.jupyter.widget-view+json": {
       "model_id": "",
       "version_major": 2,
       "version_minor": 0
      },
      "text/plain": [
       "FloatProgress(value=0.0, bar_style='info', description='Progress:', layout=Layout(height='25px', width='50%'),…"
      ]
     },
     "metadata": {},
     "output_type": "display_data"
    },
    {
     "name": "stdout",
     "output_type": "stream",
     "text": [
      "+----------+-----+----------+----------+--------------------+\n",
      "|     label|class|prediction|pred_label|         probability|\n",
      "+----------+-----+----------+----------+--------------------+\n",
      "|Watermelon| 95.0|      95.0|Watermelon|[8.98958900046451...|\n",
      "|Watermelon| 95.0|      95.0|Watermelon|[7.03153566558319...|\n",
      "|Watermelon| 95.0|      95.0|Watermelon|[3.99050338439641...|\n",
      "|Watermelon| 95.0|      95.0|Watermelon|[3.56994543639699...|\n",
      "|Watermelon| 95.0|      95.0|Watermelon|[3.34264848288672...|\n",
      "|Watermelon| 95.0|      95.0|Watermelon|[1.30859688361812...|\n",
      "|Watermelon| 95.0|      95.0|Watermelon|[9.33531278039963...|\n",
      "|Watermelon| 95.0|      95.0|Watermelon|[5.30600427278219...|\n",
      "|Watermelon| 95.0|      95.0|Watermelon|[1.43123574663425...|\n",
      "|Watermelon| 95.0|      95.0|Watermelon|[1.14767811578168...|\n",
      "+----------+-----+----------+----------+--------------------+\n",
      "only showing top 10 rows"
     ]
    }
   ],
   "source": [
    "# On test set\n",
    "test_predictions = lrPipe.transform(test)\n",
    "\n",
    "# pred_label from predicition\n",
    "converter = IndexToString(inputCol='prediction',\n",
    "                          outputCol='pred_label',\n",
    "                          labels=lrPipe.stages[0].labels)\n",
    "test_predictions = converter.transform(test_predictions)\n",
    "\n",
    "# predictions\n",
    "test_predictions.select('label',\n",
    "                   'class',\n",
    "\n",
    "                   'prediction',\n",
    "                   'pred_label',\n",
    "                   'probability'\n",
    "                  ).show(10)"
   ]
  },
  {
   "cell_type": "code",
   "execution_count": 24,
   "id": "c9cdde13",
   "metadata": {},
   "outputs": [
    {
     "data": {
      "application/vnd.jupyter.widget-view+json": {
       "model_id": "839e40330b84423d9a3f79cca5305c71",
       "version_major": 2,
       "version_minor": 0
      },
      "text/plain": [
       "VBox()"
      ]
     },
     "metadata": {},
     "output_type": "display_data"
    },
    {
     "data": {
      "application/vnd.jupyter.widget-view+json": {
       "model_id": "",
       "version_major": 2,
       "version_minor": 0
      },
      "text/plain": [
       "FloatProgress(value=0.0, bar_style='info', description='Progress:', layout=Layout(height='25px', width='50%'),…"
      ]
     },
     "metadata": {},
     "output_type": "display_data"
    },
    {
     "name": "stdout",
     "output_type": "stream",
     "text": [
      "root\n",
      " |-- path: string (nullable = true)\n",
      " |-- feat_array: array (nullable = true)\n",
      " |    |-- element: double (containsNull = true)\n",
      " |-- label: string (nullable = true)\n",
      " |-- Vect_features: vector (nullable = true)\n",
      " |-- class: double (nullable = false)\n",
      " |-- rawPrediction: vector (nullable = true)\n",
      " |-- probability: vector (nullable = true)\n",
      " |-- prediction: double (nullable = false)\n",
      " |-- pred_label: string (nullable = true)"
     ]
    }
   ],
   "source": [
    "test_predictions.printSchema()"
   ]
  },
  {
   "cell_type": "raw",
   "id": "8ba41d05",
   "metadata": {},
   "source": [
    "## Confusion matrix"
   ]
  },
  {
   "cell_type": "raw",
   "id": "ac859738",
   "metadata": {
    "scrolled": true
   },
   "source": [
    "#important: need to cast to float type, and order by prediction, else it won't work\n",
    "preds_and_labels = test_predictions.select(['prediction','class']).withColumn('Class', col('class').cast(FloatType())).orderBy('prediction')\n",
    "\n",
    "#select only prediction and label columns\n",
    "preds_and_labels = preds_and_labels.select(['prediction','Class'])\n",
    "\n",
    "metrics = MulticlassMetrics(preds_and_labels.rdd.map(tuple))\n",
    "\n",
    "print(metrics.confusionMatrix().toArray())"
   ]
  },
  {
   "cell_type": "markdown",
   "id": "d482709d",
   "metadata": {},
   "source": [
    "## Evaluation on validation set"
   ]
  },
  {
   "cell_type": "code",
   "execution_count": 25,
   "id": "5f1fcfba",
   "metadata": {},
   "outputs": [
    {
     "data": {
      "application/vnd.jupyter.widget-view+json": {
       "model_id": "0fb4a8a6c85a4897a13fb9a7c1845ed9",
       "version_major": 2,
       "version_minor": 0
      },
      "text/plain": [
       "VBox()"
      ]
     },
     "metadata": {},
     "output_type": "display_data"
    },
    {
     "data": {
      "application/vnd.jupyter.widget-view+json": {
       "model_id": "",
       "version_major": 2,
       "version_minor": 0
      },
      "text/plain": [
       "FloatProgress(value=0.0, bar_style='info', description='Progress:', layout=Layout(height='25px', width='50%'),…"
      ]
     },
     "metadata": {},
     "output_type": "display_data"
    },
    {
     "name": "stdout",
     "output_type": "stream",
     "text": [
      "Validation f1 score : 0.9933592031893852\n",
      "Validation fMeasureByLabel score : 1.0\n",
      "Validation weightedFMeasure score : 0.9933592031893852\n",
      "Validation accuracy score : 0.9934767277856136\n",
      "Validation precisionByLabel score : 1.0\n",
      "Validation weightedPrecision score : 0.9939146596956664\n",
      "Validation recallByLabel score : 1.0\n",
      "Validation weightedRecall score : 0.9934767277856131\n",
      "Validation logLoss score : 0.02286049629938294\n",
      "Validation hammingLoss score : 0.00652327221438646"
     ]
    }
   ],
   "source": [
    "evaluator = MulticlassClassificationEvaluator(predictionCol='prediction',\n",
    "                                              labelCol='class',\n",
    "                                              probabilityCol='probability'\n",
    "                                             )\n",
    "\n",
    "metrique=['f1',\n",
    "          'fMeasureByLabel',\n",
    "          'weightedFMeasure',\n",
    "          'accuracy',\n",
    "          'precisionByLabel',\n",
    "          'weightedPrecision',\n",
    "          'recallByLabel',\n",
    "          'weightedRecall',\n",
    "          \n",
    "          'logLoss',\n",
    "          'hammingLoss']\n",
    "\n",
    "for met in metrique:\n",
    "    print('Validation '+met+' score :', evaluator.setMetricName(met).evaluate(test_predictions))\n"
   ]
  },
  {
   "cell_type": "markdown",
   "id": "04593fd7",
   "metadata": {},
   "source": [
    "# End Spark session"
   ]
  },
  {
   "cell_type": "code",
   "execution_count": 26,
   "id": "292e038c",
   "metadata": {},
   "outputs": [
    {
     "data": {
      "application/vnd.jupyter.widget-view+json": {
       "model_id": "e23cd5fe039a4305a44eba42ca49b554",
       "version_major": 2,
       "version_minor": 0
      },
      "text/plain": [
       "VBox()"
      ]
     },
     "metadata": {},
     "output_type": "display_data"
    },
    {
     "data": {
      "application/vnd.jupyter.widget-view+json": {
       "model_id": "",
       "version_major": 2,
       "version_minor": 0
      },
      "text/plain": [
       "FloatProgress(value=0.0, bar_style='info', description='Progress:', layout=Layout(height='25px', width='50%'),…"
      ]
     },
     "metadata": {},
     "output_type": "display_data"
    }
   ],
   "source": [
    "spark.stop()"
   ]
  },
  {
   "cell_type": "code",
   "execution_count": null,
   "id": "c22350d3",
   "metadata": {},
   "outputs": [],
   "source": []
  }
 ],
 "metadata": {
  "kernelspec": {
   "display_name": "PySpark",
   "language": "",
   "name": "pysparkkernel"
  },
  "language_info": {
   "codemirror_mode": {
    "name": "python",
    "version": 3
   },
   "mimetype": "text/x-python",
   "name": "pyspark",
   "pygments_lexer": "python3"
  }
 },
 "nbformat": 4,
 "nbformat_minor": 5
}
